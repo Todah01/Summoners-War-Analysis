{
  "nbformat": 4,
  "nbformat_minor": 0,
  "metadata": {
    "colab": {
      "provenance": [],
      "authorship_tag": "ABX9TyOrF2EcA28HRLZuJ1ekF7Wc",
      "include_colab_link": true
    },
    "kernelspec": {
      "name": "python3",
      "display_name": "Python 3"
    },
    "language_info": {
      "name": "python"
    }
  },
  "cells": [
    {
      "cell_type": "markdown",
      "metadata": {
        "id": "view-in-github",
        "colab_type": "text"
      },
      "source": [
        "<a href=\"https://colab.research.google.com/github/Todah01/Summoners-War-Analysis/blob/main/sw_siege_battle_new_analysis.ipynb\" target=\"_parent\"><img src=\"https://colab.research.google.com/assets/colab-badge.svg\" alt=\"Open In Colab\"/></a>"
      ]
    },
    {
      "cell_type": "code",
      "source": [
        "!sudo apt-get install -y fonts-nanum\n",
        "!sudo fc-cache -fv\n",
        "# !sudo apt-get install wkhtmltopdf\n",
        "!rm ~/.cache/matplotlib -rf\n",
        "# !pip install imgkit"
      ],
      "metadata": {
        "id": "-dxewt0AM1WZ",
        "colab": {
          "base_uri": "https://localhost:8080/"
        },
        "outputId": "3c1182d4-e302-4a1a-f2fd-625ff315ba29"
      },
      "execution_count": null,
      "outputs": [
        {
          "output_type": "stream",
          "name": "stdout",
          "text": [
            "Reading package lists... Done\n",
            "Building dependency tree... Done\n",
            "Reading state information... Done\n",
            "The following NEW packages will be installed:\n",
            "  fonts-nanum\n",
            "0 upgraded, 1 newly installed, 0 to remove and 10 not upgraded.\n",
            "Need to get 10.3 MB of archives.\n",
            "After this operation, 34.1 MB of additional disk space will be used.\n",
            "Get:1 http://archive.ubuntu.com/ubuntu jammy/universe amd64 fonts-nanum all 20200506-1 [10.3 MB]\n",
            "Fetched 10.3 MB in 2s (5,150 kB/s)\n",
            "debconf: unable to initialize frontend: Dialog\n",
            "debconf: (No usable dialog-like program is installed, so the dialog based frontend cannot be used. at /usr/share/perl5/Debconf/FrontEnd/Dialog.pm line 78, <> line 1.)\n",
            "debconf: falling back to frontend: Readline\n",
            "debconf: unable to initialize frontend: Readline\n",
            "debconf: (This frontend requires a controlling tty.)\n",
            "debconf: falling back to frontend: Teletype\n",
            "dpkg-preconfigure: unable to re-open stdin: \n",
            "Selecting previously unselected package fonts-nanum.\n",
            "(Reading database ... 120880 files and directories currently installed.)\n",
            "Preparing to unpack .../fonts-nanum_20200506-1_all.deb ...\n",
            "Unpacking fonts-nanum (20200506-1) ...\n",
            "Setting up fonts-nanum (20200506-1) ...\n",
            "Processing triggers for fontconfig (2.13.1-4.2ubuntu5) ...\n",
            "/usr/share/fonts: caching, new cache contents: 0 fonts, 1 dirs\n",
            "/usr/share/fonts/truetype: caching, new cache contents: 0 fonts, 3 dirs\n",
            "/usr/share/fonts/truetype/humor-sans: caching, new cache contents: 1 fonts, 0 dirs\n",
            "/usr/share/fonts/truetype/liberation: caching, new cache contents: 16 fonts, 0 dirs\n",
            "/usr/share/fonts/truetype/nanum: caching, new cache contents: 12 fonts, 0 dirs\n",
            "/usr/local/share/fonts: caching, new cache contents: 0 fonts, 0 dirs\n",
            "/root/.local/share/fonts: skipping, no such directory\n",
            "/root/.fonts: skipping, no such directory\n",
            "/usr/share/fonts/truetype: skipping, looped directory detected\n",
            "/usr/share/fonts/truetype/humor-sans: skipping, looped directory detected\n",
            "/usr/share/fonts/truetype/liberation: skipping, looped directory detected\n",
            "/usr/share/fonts/truetype/nanum: skipping, looped directory detected\n",
            "/var/cache/fontconfig: cleaning cache directory\n",
            "/root/.cache/fontconfig: not cleaning non-existent cache directory\n",
            "/root/.fontconfig: not cleaning non-existent cache directory\n",
            "fc-cache: succeeded\n"
          ]
        }
      ]
    },
    {
      "cell_type": "markdown",
      "source": [
        "#Data Setting"
      ],
      "metadata": {
        "id": "FTZKz5fxM0QY"
      }
    },
    {
      "cell_type": "code",
      "source": [
        "import pandas as pd\n",
        "import operator\n",
        "import os\n",
        "import re\n",
        "import matplotlib.pyplot as plt\n",
        "import numpy as np\n",
        "import matplotlib.ticker as ticker\n",
        "import matplotlib.patches as patches\n",
        "import copy\n",
        "# import imgkit\n",
        "from google.colab import files\n",
        "from collections import defaultdict"
      ],
      "metadata": {
        "id": "MAkzu25xM7Hd"
      },
      "execution_count": null,
      "outputs": []
    },
    {
      "cell_type": "code",
      "source": [
        "plt.rc('font', family='NanumBarunGothic', size = 15)\n",
        "plt.rcParams[\"figure.figsize\"] = (14,10)"
      ],
      "metadata": {
        "id": "polWDL_xM8Sp"
      },
      "execution_count": null,
      "outputs": []
    },
    {
      "cell_type": "code",
      "source": [
        "def make_multiple_of_five(num):\n",
        "    if num % 5 == 0:\n",
        "        return num\n",
        "    else:\n",
        "        return num + (5 - num % 5)\n",
        "\n",
        "def remove_duplication(df_ldmon_list, new_df):\n",
        "  relation_list = []\n",
        "  for info in df_ldmon_list['몬스터']:\n",
        "    temp_list_3 = []\n",
        "    temp_list_cnt = 3\n",
        "    for idx in range(len(new_df)):\n",
        "      temp_list_str = \"\"\n",
        "      for check in check_list:\n",
        "        temp_str = re.sub('\\s+', '', new_df.iloc[idx][check])\n",
        "        if temp_str == info:\n",
        "          temp_list_str += ' '.join([new_df.iloc[idx]['몬스터1'], new_df.iloc[idx]['몬스터2'], new_df.iloc[idx]['몬스터3']\n",
        "                                    , str(new_df.iloc[idx]['등장횟수'])+\"회\"])\n",
        "          if len(temp_list_3) != temp_list_cnt:\n",
        "            temp_list_3.append(temp_list_str)\n",
        "          else:\n",
        "            break\n",
        "\n",
        "          break\n",
        "    relation_list.append(temp_list_3)\n",
        "  return relation_list\n",
        "\n",
        "def remove_empty_member_of_list(df):\n",
        "  remove_idx_list = []\n",
        "  for idx in range(len(df)):\n",
        "    if df['몬스터'].iloc[idx] == '0':\n",
        "      remove_idx_list.append(idx)\n",
        "\n",
        "  df = df.drop(remove_idx_list)\n",
        "\n",
        "  return df"
      ],
      "metadata": {
        "id": "ndmJZo89T_Sa"
      },
      "execution_count": null,
      "outputs": []
    },
    {
      "cell_type": "code",
      "execution_count": null,
      "metadata": {
        "id": "PDmQhCCFMzKa"
      },
      "outputs": [],
      "source": [
        "csv_base_name_list = [\"star4_all_mon.csv\", \"star5_all_mon.csv\", \"star4_all_combi.csv\", \"star5_all_combi.csv\"]\n",
        "csv_save_count_list = [\"star4_save_count.csv\", \"star5_save_count.csv\", \"star_ldnat5_save_count.csv\"]\n",
        "MONSTER_LDNAT4_LIST = ['프랑켄', '아수라', '팬텀시프','야만왕', '네오스톤파이터', '요괴무사', '머메이드', '주사위술사', '마법검사', '쿵푸걸', '늑대인간','차크람무녀', '부메랑전사', '호루스', '꿈냥이', '조커']\n",
        "\n",
        "df_star4_mon = pd.read_csv(csv_base_name_list[0], encoding='CP949')\n",
        "df_star5_mon = pd.read_csv(csv_base_name_list[1], encoding='CP949')\n",
        "df_star4_combi = pd.read_csv(csv_base_name_list[2], encoding='CP949')\n",
        "df_star5_combi = pd.read_csv(csv_base_name_list[3], encoding='CP949')\n",
        "df_star4_savecnt = pd.read_csv(csv_save_count_list[0], encoding='CP949')\n",
        "df_star5_savecnt = pd.read_csv(csv_save_count_list[1], encoding='CP949')\n",
        "df_ldnat5_savecnt = pd.read_csv(csv_save_count_list[2], encoding='CP949')\n",
        "\n",
        "df_star4_mon = remove_empty_member_of_list(df_star4_mon)\n",
        "df_star5_mon = remove_empty_member_of_list(df_star5_mon)\n",
        "\n",
        "df_combi_list = [df_star4_combi, df_star5_combi]\n",
        "df_mon_list = [df_star4_mon]\n",
        "df_savecnt_list = [df_star4_savecnt, df_star5_savecnt, df_ldnat5_savecnt]"
      ]
    },
    {
      "cell_type": "markdown",
      "source": [
        "#Monster Analysis"
      ],
      "metadata": {
        "id": "JEA1g3DyW_e3"
      }
    },
    {
      "cell_type": "code",
      "source": [
        "starld5_mon_list = []\n",
        "starld5_cnt_list = []\n",
        "star5_mon_list = []\n",
        "star5_cnt_list = []\n",
        "\n",
        "for idx in range(len(df_star5_mon)):\n",
        "  temp_str = re.sub('\\s+', '', df_star5_mon.iloc[idx]['몬스터'])\n",
        "  if temp_str[0] == '빛' or temp_str[0] == '암':\n",
        "    if temp_str[1:] not in MONSTER_LDNAT4_LIST:\n",
        "      starld5_mon_list.append(df_star5_mon.iloc[idx]['몬스터'])\n",
        "      starld5_cnt_list.append(df_star5_mon.iloc[idx]['횟수'])\n",
        "    else:\n",
        "      star5_mon_list.append(df_star5_mon.iloc[idx]['몬스터'])\n",
        "      star5_cnt_list.append(df_star5_mon.iloc[idx]['횟수'])\n",
        "  elif temp_str != '0':\n",
        "    star5_mon_list.append(df_star5_mon.iloc[idx]['몬스터'])\n",
        "    star5_cnt_list.append(df_star5_mon.iloc[idx]['횟수'])\n",
        "\n",
        "df_star5_mon = pd.DataFrame({'몬스터':star5_mon_list, '횟수':star5_cnt_list})\n",
        "df_starld5_mon = pd.DataFrame({'몬스터':starld5_mon_list, '횟수':starld5_cnt_list})\n",
        "\n",
        "df_mon_list.append(df_star5_mon)\n",
        "df_mon_list.append(df_starld5_mon)\n",
        "\n",
        "for siege_data in df_mon_list:\n",
        "  color_list = []\n",
        "  for i in range(min(len(siege_data), 10)) :\n",
        "    if '불' in siege_data['몬스터'].iloc[i] :\n",
        "      color_list.append('salmon')\n",
        "    elif '물' in siege_data['몬스터'].iloc[i] :\n",
        "      color_list.append('dodgerblue')\n",
        "    elif '풍' in siege_data['몬스터'].iloc[i] :\n",
        "      color_list.append('khaki')\n",
        "    elif '빛' in siege_data['몬스터'].iloc[i] :\n",
        "      color_list.append('whitesmoke')\n",
        "    elif '암' in siege_data['몬스터'].iloc[i] :\n",
        "      color_list.append('dimgrey')\n",
        "\n",
        "  wfw_len = 5\n",
        "  wfw_locator = make_multiple_of_five(int((siege_data['횟수'][0] + 10) / 5))\n",
        "\n",
        "  plt.bar(siege_data['몬스터'].head(wfw_len), siege_data['횟수'].head(wfw_len), color=color_list)\n",
        "  plt.ylim(0, siege_data['횟수'][0] + 10)\n",
        "  plt.yticks(range(0, siege_data['횟수'][0] + 10, wfw_locator))\n",
        "  plt.show()"
      ],
      "metadata": {
        "id": "YDoOGJqNRRXT",
        "colab": {
          "base_uri": "https://localhost:8080/",
          "height": 1000
        },
        "outputId": "6e77381a-507b-4482-a6da-33b46d8677b9"
      },
      "execution_count": null,
      "outputs": [
        {
          "output_type": "display_data",
          "data": {
            "text/plain": [
              "<Figure size 1400x1000 with 1 Axes>"
            ],
            "image/png": "[encoded data removed]"
          },
          "metadata": {}
        },
        {
          "output_type": "display_data",
          "data": {
            "text/plain": [
              "<Figure size 1400x1000 with 1 Axes>"
            ],
            "image/png": "[encoded data removed]"
          },
          "metadata": {}
        },
        {
          "output_type": "display_data",
          "data": {
            "text/plain": [
              "<Figure size 1400x1000 with 1 Axes>"
            ],
            "image/png": "[encoded data removed]"
          },
          "metadata": {}
        }
      ]
    },
    {
      "cell_type": "markdown",
      "source": [
        "#Save Count Analysis"
      ],
      "metadata": {
        "id": "jmDrZMu9XDLW"
      }
    },
    {
      "cell_type": "code",
      "source": [
        "ld_cnt_list = []\n",
        "df_ldmon_list = copy.deepcopy(df_mon_list[2])\n",
        "total_ld_cnt = df_ldmon_list['횟수'].sum()\n",
        "check_list = ['몬스터1', '몬스터2', '몬스터3']\n",
        "df_savecnt_list_sort_by_defense_cnt = []\n",
        "df_savecnt_list_sort_by_defense_rate = []"
      ],
      "metadata": {
        "id": "-wUIXt6wF1Hl"
      },
      "execution_count": null,
      "outputs": []
    },
    {
      "cell_type": "code",
      "source": [
        "temp_list_1 = []\n",
        "temp_list_2 = []\n",
        "for idx in range(len(df_ldmon_list)):\n",
        "  temp_list_1.append(df_ldmon_list.iloc[idx]['횟수'])\n",
        "  temp_list_2.append(df_ldmon_list.iloc[idx]['몬스터'])\n",
        "  ld_cnt_list.append(str(round(df_ldmon_list.iloc[idx]['횟수']/total_ld_cnt * 100, 2))+\"%\")\n",
        "\n",
        "df_ldmon_list['몬스터'] = [''.join(x.split()) for x in temp_list_2]\n",
        "df_ldmon_list['횟수'] = [str(x) + \"회\" for x in temp_list_1]\n",
        "df_ldmon_list['점유율'] = ld_cnt_list\n",
        "\n",
        "condition_1 = []\n",
        "condition_2 = []\n",
        "for idx in range(len(df_star5_combi)):\n",
        "  for check in check_list:\n",
        "    temp_str = re.sub('\\s+', '', df_star5_combi.iloc[idx][check])\n",
        "    if temp_str[0] == '빛' or temp_str[0] == '암':\n",
        "      if temp_str[1:] not in MONSTER_LDNAT4_LIST:\n",
        "        condition_1.append(True)\n",
        "        condition_2.append(False)\n",
        "        break\n",
        "  else:\n",
        "    condition_1.append(False)\n",
        "    condition_2.append(True)\n",
        "\n",
        "new_df = df_star5_combi.loc[condition_1]\n",
        "new_nonld_df = df_star5_combi.loc[condition_2]\n",
        "\n",
        "df_ldmon_list['방덱'] = remove_duplication(df_ldmon_list ,new_df)"
      ],
      "metadata": {
        "id": "ggYp0y-FH9nq"
      },
      "execution_count": null,
      "outputs": []
    },
    {
      "cell_type": "code",
      "source": [
        "for df_savecnt in df_savecnt_list:\n",
        "  temp_list_1 = []\n",
        "  temp_list_2 = []\n",
        "  temp_list_3 = []\n",
        "  for idx in range(len(df_savecnt)):\n",
        "    temp_list_1.append(df_savecnt.iloc[idx]['방어율'])\n",
        "    temp_list_2.append(df_savecnt.iloc[idx]['방어횟수'])\n",
        "    temp_list_3.append(df_savecnt.iloc[idx]['총 공격받은 횟수'])\n",
        "  df_savecnt['방어율'] = [str(round(x * 100, 3)) + \"%\" for x in temp_list_1]\n",
        "  df_savecnt['방어횟수'] = [str(x) + \"회\" for x in temp_list_2]\n",
        "  df_savecnt['총 공격받은 횟수'] = [str(x) + \"회\" for x in temp_list_3]\n",
        "\n",
        "for df_savecnt in df_savecnt_list:\n",
        "  df_savecnt_cnt = df_savecnt.sort_values(by=['방어횟수'], key=lambda x: pd.to_numeric(x.str[:-1]), ascending = False)\n",
        "  df_savecnt_rate = df_savecnt[pd.to_numeric(df_savecnt['총 공격받은 횟수'].str[:-1]) >= 10].sort_values(by=['방어율'], key=lambda x: pd.to_numeric(x.str[:-1]), ascending = False)\n",
        "  df_savecnt_list_sort_by_defense_cnt.append(df_savecnt_cnt)\n",
        "  df_savecnt_list_sort_by_defense_rate.append(df_savecnt_rate)\n",
        "\n",
        "for idx in range(len(df_savecnt_list_sort_by_defense_cnt)):\n",
        "  df_savecnt_list_sort_by_defense_cnt[idx].head().to_csv(f'df_savecnt_sortbycnt_{idx}.csv', index=False, encoding='CP949')\n",
        "  df_savecnt_list_sort_by_defense_rate[idx].head().to_csv(f'df_savecnt_sortbyrate_{idx}.csv', index=False, encoding='CP949')\n",
        "\n",
        "  files.download(f'df_savecnt_sortbycnt_{idx}.csv')\n",
        "  files.download(f'df_savecnt_sortbyrate_{idx}.csv')\n",
        "\n",
        "new_nonld_df.to_csv('df_star5_combi_nonld.csv', index=False, encoding='CP949')\n",
        "new_df.to_csv('df_star5_combi_ld.csv', index=False, encoding='CP949')\n",
        "df_ldmon_list.head().to_csv('df_ldmon_list.csv', index=False, encoding='CP949')\n",
        "files.download('df_star5_combi_nonld.csv')\n",
        "files.download('df_star5_combi_ld.csv')\n",
        "files.download('df_ldmon_list.csv')"
      ],
      "metadata": {
        "id": "DEDCY-aMXGDN",
        "colab": {
          "base_uri": "https://localhost:8080/",
          "height": 17
        },
        "outputId": "3ec63101-04d2-4e7f-9e89-d2d8f3c325c6"
      },
      "execution_count": null,
      "outputs": [
        {
          "output_type": "display_data",
          "data": {
            "text/plain": [
              "<IPython.core.display.Javascript object>"
            ],
            "application/javascript": [
              "\n",
              "    async function download(id, filename, size) {\n",
              "      if (!google.colab.kernel.accessAllowed) {\n",
              "        return;\n",
              "      }\n",
              "      const div = document.createElement('div');\n",
              "      const label = document.createElement('label');\n",
              "      label.textContent = `Downloading \"${filename}\": `;\n",
              "      div.appendChild(label);\n",
              "      const progress = document.createElement('progress');\n",
              "      progress.max = size;\n",
              "      div.appendChild(progress);\n",
              "      document.body.appendChild(div);\n",
              "\n",
              "      const buffers = [];\n",
              "      let downloaded = 0;\n",
              "\n",
              "      const channel = await google.colab.kernel.comms.open(id);\n",
              "      // Send a message to notify the kernel that we're ready.\n",
              "      channel.send({})\n",
              "\n",
              "      for await (const message of channel.messages) {\n",
              "        // Send a message to notify the kernel that we're ready.\n",
              "        channel.send({})\n",
              "        if (message.buffers) {\n",
              "          for (const buffer of message.buffers) {\n",
              "            buffers.push(buffer);\n",
              "            downloaded += buffer.byteLength;\n",
              "            progress.value = downloaded;\n",
              "          }\n",
              "        }\n",
              "      }\n",
              "      const blob = new Blob(buffers, {type: 'application/binary'});\n",
              "      const a = document.createElement('a');\n",
              "      a.href = window.URL.createObjectURL(blob);\n",
              "      a.download = filename;\n",
              "      div.appendChild(a);\n",
              "      a.click();\n",
              "      div.remove();\n",
              "    }\n",
              "  "
            ]
          },
          "metadata": {}
        },
        {
          "output_type": "display_data",
          "data": {
            "text/plain": [
              "<IPython.core.display.Javascript object>"
            ],
            "application/javascript": [
              "download(\"download_22b8c65b-5e52-48f8-ac26-618d711fed8a\", \"df_savecnt_sortbycnt_0.csv\", 288)"
            ]
          },
          "metadata": {}
        },
        {
          "output_type": "display_data",
          "data": {
            "text/plain": [
              "<IPython.core.display.Javascript object>"
            ],
            "application/javascript": [
              "\n",
              "    async function download(id, filename, size) {\n",
              "      if (!google.colab.kernel.accessAllowed) {\n",
              "        return;\n",
              "      }\n",
              "      const div = document.createElement('div');\n",
              "      const label = document.createElement('label');\n",
              "      label.textContent = `Downloading \"${filename}\": `;\n",
              "      div.appendChild(label);\n",
              "      const progress = document.createElement('progress');\n",
              "      progress.max = size;\n",
              "      div.appendChild(progress);\n",
              "      document.body.appendChild(div);\n",
              "\n",
              "      const buffers = [];\n",
              "      let downloaded = 0;\n",
              "\n",
              "      const channel = await google.colab.kernel.comms.open(id);\n",
              "      // Send a message to notify the kernel that we're ready.\n",
              "      channel.send({})\n",
              "\n",
              "      for await (const message of channel.messages) {\n",
              "        // Send a message to notify the kernel that we're ready.\n",
              "        channel.send({})\n",
              "        if (message.buffers) {\n",
              "          for (const buffer of message.buffers) {\n",
              "            buffers.push(buffer);\n",
              "            downloaded += buffer.byteLength;\n",
              "            progress.value = downloaded;\n",
              "          }\n",
              "        }\n",
              "      }\n",
              "      const blob = new Blob(buffers, {type: 'application/binary'});\n",
              "      const a = document.createElement('a');\n",
              "      a.href = window.URL.createObjectURL(blob);\n",
              "      a.download = filename;\n",
              "      div.appendChild(a);\n",
              "      a.click();\n",
              "      div.remove();\n",
              "    }\n",
              "  "
            ]
          },
          "metadata": {}
        },
        {
          "output_type": "display_data",
          "data": {
            "text/plain": [
              "<IPython.core.display.Javascript object>"
            ],
            "application/javascript": [
              "download(\"download_f011a56d-6576-48e6-8c41-8a87e186c2ca\", \"df_savecnt_sortbyrate_0.csv\", 290)"
            ]
          },
          "metadata": {}
        },
        {
          "output_type": "display_data",
          "data": {
            "text/plain": [
              "<IPython.core.display.Javascript object>"
            ],
            "application/javascript": [
              "\n",
              "    async function download(id, filename, size) {\n",
              "      if (!google.colab.kernel.accessAllowed) {\n",
              "        return;\n",
              "      }\n",
              "      const div = document.createElement('div');\n",
              "      const label = document.createElement('label');\n",
              "      label.textContent = `Downloading \"${filename}\": `;\n",
              "      div.appendChild(label);\n",
              "      const progress = document.createElement('progress');\n",
              "      progress.max = size;\n",
              "      div.appendChild(progress);\n",
              "      document.body.appendChild(div);\n",
              "\n",
              "      const buffers = [];\n",
              "      let downloaded = 0;\n",
              "\n",
              "      const channel = await google.colab.kernel.comms.open(id);\n",
              "      // Send a message to notify the kernel that we're ready.\n",
              "      channel.send({})\n",
              "\n",
              "      for await (const message of channel.messages) {\n",
              "        // Send a message to notify the kernel that we're ready.\n",
              "        channel.send({})\n",
              "        if (message.buffers) {\n",
              "          for (const buffer of message.buffers) {\n",
              "            buffers.push(buffer);\n",
              "            downloaded += buffer.byteLength;\n",
              "            progress.value = downloaded;\n",
              "          }\n",
              "        }\n",
              "      }\n",
              "      const blob = new Blob(buffers, {type: 'application/binary'});\n",
              "      const a = document.createElement('a');\n",
              "      a.href = window.URL.createObjectURL(blob);\n",
              "      a.download = filename;\n",
              "      div.appendChild(a);\n",
              "      a.click();\n",
              "      div.remove();\n",
              "    }\n",
              "  "
            ]
          },
          "metadata": {}
        },
        {
          "output_type": "display_data",
          "data": {
            "text/plain": [
              "<IPython.core.display.Javascript object>"
            ],
            "application/javascript": [
              "download(\"download_13ad9da6-fb4c-4ab2-8134-e758c45aaaa7\", \"df_savecnt_sortbycnt_1.csv\", 103)"
            ]
          },
          "metadata": {}
        },
        {
          "output_type": "display_data",
          "data": {
            "text/plain": [
              "<IPython.core.display.Javascript object>"
            ],
            "application/javascript": [
              "\n",
              "    async function download(id, filename, size) {\n",
              "      if (!google.colab.kernel.accessAllowed) {\n",
              "        return;\n",
              "      }\n",
              "      const div = document.createElement('div');\n",
              "      const label = document.createElement('label');\n",
              "      label.textContent = `Downloading \"${filename}\": `;\n",
              "      div.appendChild(label);\n",
              "      const progress = document.createElement('progress');\n",
              "      progress.max = size;\n",
              "      div.appendChild(progress);\n",
              "      document.body.appendChild(div);\n",
              "\n",
              "      const buffers = [];\n",
              "      let downloaded = 0;\n",
              "\n",
              "      const channel = await google.colab.kernel.comms.open(id);\n",
              "      // Send a message to notify the kernel that we're ready.\n",
              "      channel.send({})\n",
              "\n",
              "      for await (const message of channel.messages) {\n",
              "        // Send a message to notify the kernel that we're ready.\n",
              "        channel.send({})\n",
              "        if (message.buffers) {\n",
              "          for (const buffer of message.buffers) {\n",
              "            buffers.push(buffer);\n",
              "            downloaded += buffer.byteLength;\n",
              "            progress.value = downloaded;\n",
              "          }\n",
              "        }\n",
              "      }\n",
              "      const blob = new Blob(buffers, {type: 'application/binary'});\n",
              "      const a = document.createElement('a');\n",
              "      a.href = window.URL.createObjectURL(blob);\n",
              "      a.download = filename;\n",
              "      div.appendChild(a);\n",
              "      a.click();\n",
              "      div.remove();\n",
              "    }\n",
              "  "
            ]
          },
          "metadata": {}
        },
        {
          "output_type": "display_data",
          "data": {
            "text/plain": [
              "<IPython.core.display.Javascript object>"
            ],
            "application/javascript": [
              "download(\"download_6cad46f4-f8e1-4f5d-b032-f326ff781205\", \"df_savecnt_sortbyrate_1.csv\", 57)"
            ]
          },
          "metadata": {}
        },
        {
          "output_type": "display_data",
          "data": {
            "text/plain": [
              "<IPython.core.display.Javascript object>"
            ],
            "application/javascript": [
              "\n",
              "    async function download(id, filename, size) {\n",
              "      if (!google.colab.kernel.accessAllowed) {\n",
              "        return;\n",
              "      }\n",
              "      const div = document.createElement('div');\n",
              "      const label = document.createElement('label');\n",
              "      label.textContent = `Downloading \"${filename}\": `;\n",
              "      div.appendChild(label);\n",
              "      const progress = document.createElement('progress');\n",
              "      progress.max = size;\n",
              "      div.appendChild(progress);\n",
              "      document.body.appendChild(div);\n",
              "\n",
              "      const buffers = [];\n",
              "      let downloaded = 0;\n",
              "\n",
              "      const channel = await google.colab.kernel.comms.open(id);\n",
              "      // Send a message to notify the kernel that we're ready.\n",
              "      channel.send({})\n",
              "\n",
              "      for await (const message of channel.messages) {\n",
              "        // Send a message to notify the kernel that we're ready.\n",
              "        channel.send({})\n",
              "        if (message.buffers) {\n",
              "          for (const buffer of message.buffers) {\n",
              "            buffers.push(buffer);\n",
              "            downloaded += buffer.byteLength;\n",
              "            progress.value = downloaded;\n",
              "          }\n",
              "        }\n",
              "      }\n",
              "      const blob = new Blob(buffers, {type: 'application/binary'});\n",
              "      const a = document.createElement('a');\n",
              "      a.href = window.URL.createObjectURL(blob);\n",
              "      a.download = filename;\n",
              "      div.appendChild(a);\n",
              "      a.click();\n",
              "      div.remove();\n",
              "    }\n",
              "  "
            ]
          },
          "metadata": {}
        },
        {
          "output_type": "display_data",
          "data": {
            "text/plain": [
              "<IPython.core.display.Javascript object>"
            ],
            "application/javascript": [
              "download(\"download_4ce8bd4d-23bf-4298-a922-d9d807b81b7e\", \"df_savecnt_sortbycnt_2.csv\", 325)"
            ]
          },
          "metadata": {}
        },
        {
          "output_type": "display_data",
          "data": {
            "text/plain": [
              "<IPython.core.display.Javascript object>"
            ],
            "application/javascript": [
              "\n",
              "    async function download(id, filename, size) {\n",
              "      if (!google.colab.kernel.accessAllowed) {\n",
              "        return;\n",
              "      }\n",
              "      const div = document.createElement('div');\n",
              "      const label = document.createElement('label');\n",
              "      label.textContent = `Downloading \"${filename}\": `;\n",
              "      div.appendChild(label);\n",
              "      const progress = document.createElement('progress');\n",
              "      progress.max = size;\n",
              "      div.appendChild(progress);\n",
              "      document.body.appendChild(div);\n",
              "\n",
              "      const buffers = [];\n",
              "      let downloaded = 0;\n",
              "\n",
              "      const channel = await google.colab.kernel.comms.open(id);\n",
              "      // Send a message to notify the kernel that we're ready.\n",
              "      channel.send({})\n",
              "\n",
              "      for await (const message of channel.messages) {\n",
              "        // Send a message to notify the kernel that we're ready.\n",
              "        channel.send({})\n",
              "        if (message.buffers) {\n",
              "          for (const buffer of message.buffers) {\n",
              "            buffers.push(buffer);\n",
              "            downloaded += buffer.byteLength;\n",
              "            progress.value = downloaded;\n",
              "          }\n",
              "        }\n",
              "      }\n",
              "      const blob = new Blob(buffers, {type: 'application/binary'});\n",
              "      const a = document.createElement('a');\n",
              "      a.href = window.URL.createObjectURL(blob);\n",
              "      a.download = filename;\n",
              "      div.appendChild(a);\n",
              "      a.click();\n",
              "      div.remove();\n",
              "    }\n",
              "  "
            ]
          },
          "metadata": {}
        },
        {
          "output_type": "display_data",
          "data": {
            "text/plain": [
              "<IPython.core.display.Javascript object>"
            ],
            "application/javascript": [
              "download(\"download_e0e157af-b4fe-4d03-897d-0f6ee6a4c804\", \"df_savecnt_sortbyrate_2.csv\", 324)"
            ]
          },
          "metadata": {}
        },
        {
          "output_type": "display_data",
          "data": {
            "text/plain": [
              "<IPython.core.display.Javascript object>"
            ],
            "application/javascript": [
              "\n",
              "    async function download(id, filename, size) {\n",
              "      if (!google.colab.kernel.accessAllowed) {\n",
              "        return;\n",
              "      }\n",
              "      const div = document.createElement('div');\n",
              "      const label = document.createElement('label');\n",
              "      label.textContent = `Downloading \"${filename}\": `;\n",
              "      div.appendChild(label);\n",
              "      const progress = document.createElement('progress');\n",
              "      progress.max = size;\n",
              "      div.appendChild(progress);\n",
              "      document.body.appendChild(div);\n",
              "\n",
              "      const buffers = [];\n",
              "      let downloaded = 0;\n",
              "\n",
              "      const channel = await google.colab.kernel.comms.open(id);\n",
              "      // Send a message to notify the kernel that we're ready.\n",
              "      channel.send({})\n",
              "\n",
              "      for await (const message of channel.messages) {\n",
              "        // Send a message to notify the kernel that we're ready.\n",
              "        channel.send({})\n",
              "        if (message.buffers) {\n",
              "          for (const buffer of message.buffers) {\n",
              "            buffers.push(buffer);\n",
              "            downloaded += buffer.byteLength;\n",
              "            progress.value = downloaded;\n",
              "          }\n",
              "        }\n",
              "      }\n",
              "      const blob = new Blob(buffers, {type: 'application/binary'});\n",
              "      const a = document.createElement('a');\n",
              "      a.href = window.URL.createObjectURL(blob);\n",
              "      a.download = filename;\n",
              "      div.appendChild(a);\n",
              "      a.click();\n",
              "      div.remove();\n",
              "    }\n",
              "  "
            ]
          },
          "metadata": {}
        },
        {
          "output_type": "display_data",
          "data": {
            "text/plain": [
              "<IPython.core.display.Javascript object>"
            ],
            "application/javascript": [
              "download(\"download_d3dcfe41-a3c6-41f8-8b10-17fd1c6b5bfb\", \"df_star5_combi_nonld.csv\", 167)"
            ]
          },
          "metadata": {}
        },
        {
          "output_type": "display_data",
          "data": {
            "text/plain": [
              "<IPython.core.display.Javascript object>"
            ],
            "application/javascript": [
              "\n",
              "    async function download(id, filename, size) {\n",
              "      if (!google.colab.kernel.accessAllowed) {\n",
              "        return;\n",
              "      }\n",
              "      const div = document.createElement('div');\n",
              "      const label = document.createElement('label');\n",
              "      label.textContent = `Downloading \"${filename}\": `;\n",
              "      div.appendChild(label);\n",
              "      const progress = document.createElement('progress');\n",
              "      progress.max = size;\n",
              "      div.appendChild(progress);\n",
              "      document.body.appendChild(div);\n",
              "\n",
              "      const buffers = [];\n",
              "      let downloaded = 0;\n",
              "\n",
              "      const channel = await google.colab.kernel.comms.open(id);\n",
              "      // Send a message to notify the kernel that we're ready.\n",
              "      channel.send({})\n",
              "\n",
              "      for await (const message of channel.messages) {\n",
              "        // Send a message to notify the kernel that we're ready.\n",
              "        channel.send({})\n",
              "        if (message.buffers) {\n",
              "          for (const buffer of message.buffers) {\n",
              "            buffers.push(buffer);\n",
              "            downloaded += buffer.byteLength;\n",
              "            progress.value = downloaded;\n",
              "          }\n",
              "        }\n",
              "      }\n",
              "      const blob = new Blob(buffers, {type: 'application/binary'});\n",
              "      const a = document.createElement('a');\n",
              "      a.href = window.URL.createObjectURL(blob);\n",
              "      a.download = filename;\n",
              "      div.appendChild(a);\n",
              "      a.click();\n",
              "      div.remove();\n",
              "    }\n",
              "  "
            ]
          },
          "metadata": {}
        },
        {
          "output_type": "display_data",
          "data": {
            "text/plain": [
              "<IPython.core.display.Javascript object>"
            ],
            "application/javascript": [
              "download(\"download_d7b02b9d-5ba5-401e-8091-7ca19ebf262b\", \"df_star5_combi_ld.csv\", 3714)"
            ]
          },
          "metadata": {}
        },
        {
          "output_type": "display_data",
          "data": {
            "text/plain": [
              "<IPython.core.display.Javascript object>"
            ],
            "application/javascript": [
              "\n",
              "    async function download(id, filename, size) {\n",
              "      if (!google.colab.kernel.accessAllowed) {\n",
              "        return;\n",
              "      }\n",
              "      const div = document.createElement('div');\n",
              "      const label = document.createElement('label');\n",
              "      label.textContent = `Downloading \"${filename}\": `;\n",
              "      div.appendChild(label);\n",
              "      const progress = document.createElement('progress');\n",
              "      progress.max = size;\n",
              "      div.appendChild(progress);\n",
              "      document.body.appendChild(div);\n",
              "\n",
              "      const buffers = [];\n",
              "      let downloaded = 0;\n",
              "\n",
              "      const channel = await google.colab.kernel.comms.open(id);\n",
              "      // Send a message to notify the kernel that we're ready.\n",
              "      channel.send({})\n",
              "\n",
              "      for await (const message of channel.messages) {\n",
              "        // Send a message to notify the kernel that we're ready.\n",
              "        channel.send({})\n",
              "        if (message.buffers) {\n",
              "          for (const buffer of message.buffers) {\n",
              "            buffers.push(buffer);\n",
              "            downloaded += buffer.byteLength;\n",
              "            progress.value = downloaded;\n",
              "          }\n",
              "        }\n",
              "      }\n",
              "      const blob = new Blob(buffers, {type: 'application/binary'});\n",
              "      const a = document.createElement('a');\n",
              "      a.href = window.URL.createObjectURL(blob);\n",
              "      a.download = filename;\n",
              "      div.appendChild(a);\n",
              "      a.click();\n",
              "      div.remove();\n",
              "    }\n",
              "  "
            ]
          },
          "metadata": {}
        },
        {
          "output_type": "display_data",
          "data": {
            "text/plain": [
              "<IPython.core.display.Javascript object>"
            ],
            "application/javascript": [
              "download(\"download_daedc75a-673b-4d9d-be85-3cecb6b6209e\", \"df_ldmon_list.csv\", 929)"
            ]
          },
          "metadata": {}
        }
      ]
    },
    {
      "cell_type": "code",
      "source": [
        "folder_path = '/content/' # 삭제할 파일들이 들어있는 폴더 경로\n",
        "files = os.listdir(folder_path) # 폴더 내 모든 파일들의 이름 리스트로 저장\n",
        "\n",
        "for file in files:\n",
        "    file_path = os.path.join(folder_path, file) # 폴더 경로와 파일 이름 합치기\n",
        "    if os.path.isfile(file_path): # 파일인 경우에만 삭제\n",
        "        os.remove(file_path)\n",
        "        print(f\"{file_path}가 성공적으로 삭제되었습니다.\")"
      ],
      "metadata": {
        "id": "r_MsohwcrL-8",
        "colab": {
          "base_uri": "https://localhost:8080/"
        },
        "outputId": "5b4c09c7-224b-4495-883e-4c92f8a5ea50"
      },
      "execution_count": null,
      "outputs": [
        {
          "output_type": "stream",
          "name": "stdout",
          "text": [
            "/content/star5_all_mon.csv가 성공적으로 삭제되었습니다.\n",
            "/content/star4_all_combi.csv가 성공적으로 삭제되었습니다.\n",
            "/content/star5_all_combi.csv가 성공적으로 삭제되었습니다.\n",
            "/content/df_savecnt_sortbyrate_2.csv가 성공적으로 삭제되었습니다.\n",
            "/content/df_savecnt_sortbycnt_2.csv가 성공적으로 삭제되었습니다.\n",
            "/content/df_ldmon_list.csv가 성공적으로 삭제되었습니다.\n",
            "/content/star4_all_mon.csv가 성공적으로 삭제되었습니다.\n",
            "/content/star5_save_count.csv가 성공적으로 삭제되었습니다.\n",
            "/content/df_savecnt_sortbycnt_0.csv가 성공적으로 삭제되었습니다.\n",
            "/content/df_savecnt_sortbyrate_1.csv가 성공적으로 삭제되었습니다.\n",
            "/content/star_ldnat5_save_count.csv가 성공적으로 삭제되었습니다.\n",
            "/content/df_savecnt_sortbycnt_1.csv가 성공적으로 삭제되었습니다.\n",
            "/content/df_star5_combi_nonld.csv가 성공적으로 삭제되었습니다.\n",
            "/content/df_star5_combi_ld.csv가 성공적으로 삭제되었습니다.\n",
            "/content/star4_save_count.csv가 성공적으로 삭제되었습니다.\n",
            "/content/df_savecnt_sortbyrate_0.csv가 성공적으로 삭제되었습니다.\n"
          ]
        }
      ]
    },
    {
      "cell_type": "code",
      "source": [
        "# for idx in range(len(df_savecnt_list_sort_by_defense_cnt)):\n",
        "#   html_cnt = df_savecnt_list_sort_by_defense_cnt[idx].to_html()\n",
        "#   html_rate = df_savecnt_list_sort_by_defense_rate[idx].to_html()\n",
        "\n",
        "#   # 작업 디렉토리에 HTML 파일을 생성합니다.\n",
        "#   with open(f'html_cnt{idx}.html', 'w') as f:\n",
        "#       f.write(html_cnt)\n",
        "#   with open(f'html_rate{idx}.html', 'w') as f:\n",
        "#       f.write(html_rate)\n",
        "\n",
        "#   imgkit.from_file(f'html_cnt{idx}.html', f'df_savecnt_list_sort_by_defense_cnt{idx}.png')\n",
        "#   imgkit.from_file(f'html_rate{idx}.html', f'df_savecnt_list_sort_by_defense_rate{idx}.png')"
      ],
      "metadata": {
        "id": "2PgVEvJ6aZyo"
      },
      "execution_count": null,
      "outputs": []
    }
  ]
}