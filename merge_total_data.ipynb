{
  "nbformat": 4,
  "nbformat_minor": 0,
  "metadata": {
    "colab": {
      "provenance": [],
      "authorship_tag": "ABX9TyNv931pZX3Cz5vryfiH2DHv",
      "include_colab_link": true
    },
    "kernelspec": {
      "name": "python3",
      "display_name": "Python 3"
    },
    "language_info": {
      "name": "python"
    }
  },
  "cells": [
    {
      "cell_type": "markdown",
      "metadata": {
        "id": "view-in-github",
        "colab_type": "text"
      },
      "source": [
        "<a href=\"https://colab.research.google.com/github/Todah01/Summoners-War-Analysis/blob/main/merge_total_data.ipynb\" target=\"_parent\"><img src=\"https://colab.research.google.com/assets/colab-badge.svg\" alt=\"Open In Colab\"/></a>"
      ]
    },
    {
      "cell_type": "code",
      "source": [
        "!sudo apt-get install -y fonts-nanum\n",
        "!sudo fc-cache -fv\n",
        "# !sudo apt-get install wkhtmltopdf\n",
        "!rm ~/.cache/matplotlib -rf"
      ],
      "metadata": {
        "id": "U8BxlfEN-SZn",
        "colab": {
          "base_uri": "https://localhost:8080/"
        },
        "outputId": "51ea6b24-7cd4-4f9e-fb9a-986ec95f9d2d"
      },
      "execution_count": null,
      "outputs": [
        {
          "output_type": "stream",
          "name": "stdout",
          "text": [
            "Reading package lists... Done\n",
            "Building dependency tree... Done\n",
            "Reading state information... Done\n",
            "fonts-nanum is already the newest version (20200506-1).\n",
            "0 upgraded, 0 newly installed, 0 to remove and 10 not upgraded.\n",
            "/usr/share/fonts: caching, new cache contents: 0 fonts, 1 dirs\n",
            "/usr/share/fonts/truetype: caching, new cache contents: 0 fonts, 3 dirs\n",
            "/usr/share/fonts/truetype/humor-sans: caching, new cache contents: 1 fonts, 0 dirs\n",
            "/usr/share/fonts/truetype/liberation: caching, new cache contents: 16 fonts, 0 dirs\n",
            "/usr/share/fonts/truetype/nanum: caching, new cache contents: 12 fonts, 0 dirs\n",
            "/usr/local/share/fonts: caching, new cache contents: 0 fonts, 0 dirs\n",
            "/root/.local/share/fonts: skipping, no such directory\n",
            "/root/.fonts: skipping, no such directory\n",
            "/usr/share/fonts/truetype: skipping, looped directory detected\n",
            "/usr/share/fonts/truetype/humor-sans: skipping, looped directory detected\n",
            "/usr/share/fonts/truetype/liberation: skipping, looped directory detected\n",
            "/usr/share/fonts/truetype/nanum: skipping, looped directory detected\n",
            "/var/cache/fontconfig: cleaning cache directory\n",
            "/root/.cache/fontconfig: not cleaning non-existent cache directory\n",
            "/root/.fontconfig: not cleaning non-existent cache directory\n",
            "fc-cache: succeeded\n"
          ]
        }
      ]
    },
    {
      "cell_type": "code",
      "source": [
        "import os\n",
        "import re\n",
        "import pandas as pd\n",
        "import matplotlib.pyplot as plt\n",
        "from google.colab import files\n",
        "from collections import defaultdict"
      ],
      "metadata": {
        "id": "HUp2__dUt67t"
      },
      "execution_count": null,
      "outputs": []
    },
    {
      "cell_type": "code",
      "source": [
        "def make_multiple_of_five(num):\n",
        "    if num % 5 == 0:\n",
        "        return num\n",
        "    else:\n",
        "        return num + (5 - num % 5)\n",
        "\n",
        "# split data func\n",
        "def count_unique_mon(df_def, check_key):\n",
        "  dict_save_count = defaultdict(int)\n",
        "\n",
        "  for idx in range(len(df_def)):\n",
        "    temp_key = df_def.iloc[idx][check_key]\n",
        "    dict_save_count[temp_key] += df_def.iloc[idx][\"횟수\"]\n",
        "\n",
        "  return dict_save_count\n",
        "\n",
        "#-------------------------------------------------------------------------------------\n",
        "\n",
        "# split data func\n",
        "def organize_df_mon(df_temp, star, df_name):\n",
        "  starld5_mon_list = []\n",
        "  starld5_cnt_list = []\n",
        "  star5_mon_list = []\n",
        "  star5_cnt_list = []\n",
        "\n",
        "  # remove duplication\n",
        "  df_star_mon_total = df_temp.drop('순위', axis = 1)\n",
        "  df_star_mon_total = pd.DataFrame({\"몬스터\" : count_unique_mon(df_star_mon_total, \"몬스터\").keys(), \"횟수\" : count_unique_mon(df_star_mon_total, \"몬스터\").values()})\n",
        "  df_star_mon_total = df_star_mon_total.sort_values(\"횟수\", ascending = False)\n",
        "\n",
        "  if star == 4:\n",
        "    return df_star_mon_total\n",
        "\n",
        "  elif star == 5:\n",
        "    # divide ld monster from data\n",
        "    for idx in range(len(df_star_mon_total)):\n",
        "      temp_str = re.sub('\\s+', '', df_star_mon_total.iloc[idx]['몬스터'])\n",
        "      if temp_str[0] == '빛' or temp_str[0] == '암':\n",
        "        if temp_str[1:] not in MONSTER_LDNAT4_LIST:\n",
        "          starld5_mon_list.append(df_star_mon_total.iloc[idx]['몬스터'])\n",
        "          starld5_cnt_list.append(df_star_mon_total.iloc[idx]['횟수'])\n",
        "        else:\n",
        "          star5_mon_list.append(df_star_mon_total.iloc[idx]['몬스터'])\n",
        "          star5_cnt_list.append(df_star_mon_total.iloc[idx]['횟수'])\n",
        "      elif temp_str != '0':\n",
        "        star5_mon_list.append(df_star_mon_total.iloc[idx]['몬스터'])\n",
        "        star5_cnt_list.append(df_star_mon_total.iloc[idx]['횟수'])\n",
        "\n",
        "    df_star5_mon_total = pd.DataFrame({'몬스터':star5_mon_list, '횟수':star5_cnt_list})\n",
        "    df_starld5_mon_total = pd.DataFrame({'몬스터':starld5_mon_list, '횟수':starld5_cnt_list})\n",
        "    return df_star5_mon_total, df_starld5_mon_total\n",
        "\n",
        "  else:\n",
        "    return \"Star Error\"\n",
        "\n",
        "#-------------------------------------------------------------------------------------\n",
        "\n",
        "def make_plt(length, siege_data):\n",
        "  color_list = []\n",
        "  for i in range(min(len(siege_data), 10)) :\n",
        "    if '불' in siege_data['몬스터'].iloc[i] :\n",
        "      color_list.append('salmon')\n",
        "    elif '물' in siege_data['몬스터'].iloc[i] :\n",
        "      color_list.append('dodgerblue')\n",
        "    elif '풍' in siege_data['몬스터'].iloc[i] :\n",
        "      color_list.append('khaki')\n",
        "    elif '빛' in siege_data['몬스터'].iloc[i] :\n",
        "      color_list.append('whitesmoke')\n",
        "    elif '암' in siege_data['몬스터'].iloc[i] :\n",
        "      color_list.append('dimgrey')\n",
        "\n",
        "  wfw_len = length\n",
        "  wfw_locator = make_multiple_of_five(int(siege_data['횟수'][0] / 5))\n",
        "\n",
        "  plt.bar(siege_data['몬스터'].head(wfw_len), siege_data['횟수'].head(wfw_len), color=color_list)\n",
        "  plt.ylim(0, siege_data['횟수'][0] * 1.2)\n",
        "  plt.yticks(range(0, siege_data['횟수'][0] + int(siege_data['횟수'][0]/5), wfw_locator))\n",
        "  plt.xticks(rotation = 30)\n",
        "  plt.show()\n",
        "\n",
        "#-------------------------------------------------------------------------------------\n",
        "\n",
        "# split data func\n",
        "def count_unique_def(df_def, check_keys):\n",
        "  dict_save_count = defaultdict(int)\n",
        "\n",
        "  for idx in range(len(df_def)):\n",
        "    temp_list = []\n",
        "    for check_key in check_keys:\n",
        "      temp_str = re.sub('\\s+', '', df_def.iloc[idx][check_key])\n",
        "      temp_list.append(temp_str)\n",
        "\n",
        "    temp_key = ' '.join(temp_list)\n",
        "\n",
        "    if not dict_save_count:\n",
        "      dict_save_count[temp_key] += int(df_def.iloc[idx][\"등장횟수\"][:-1]) if str(df_def.iloc[idx][\"등장횟수\"])[-1] == '회' else int(df_def.iloc[idx][\"등장횟수\"])\n",
        "    else:\n",
        "      for key in list(dict_save_count.keys()):\n",
        "          tmp_key_list = key.split()\n",
        "          tmp_sort_dict = sorted(tmp_key_list)\n",
        "          tmp_sort_list = sorted(temp_list)\n",
        "          if tmp_sort_dict == tmp_sort_list:\n",
        "            dict_save_count[key] += int(df_def.iloc[idx][\"등장횟수\"][:-1]) if str(df_def.iloc[idx][\"등장횟수\"])[-1] == '회' else int(df_def.iloc[idx][\"등장횟수\"])\n",
        "            break\n",
        "      else:\n",
        "        dict_save_count[temp_key] += int(df_def.iloc[idx][\"등장횟수\"][:-1]) if str(df_def.iloc[idx][\"등장횟수\"])[-1] == '회' else int(df_def.iloc[idx][\"등장횟수\"])\n",
        "\n",
        "  return dict_save_count\n",
        "\n",
        "#-------------------------------------------------------------------------------------\n",
        "\n",
        "def remove_duplication_in_def(df_temp, star, df_name):\n",
        "  temp_list_1 = []\n",
        "  temp = count_unique_def(df_temp, check_keys)\n",
        "  monster_1_list = [data.split()[0] for data in temp.keys()]\n",
        "  monster_2_list = [data.split()[1] for data in temp.keys()]\n",
        "  monster_3_list = [data.split()[2] for data in temp.keys()]\n",
        "  values = temp.values()\n",
        "  temp_df = pd.DataFrame({'몬스터1':monster_1_list, '몬스터2':monster_2_list, '몬스터3':monster_3_list, '등장횟수':values})\n",
        "  temp_df = temp_df.sort_values(\"등장횟수\", ascending = False)\n",
        "  for idx in range(len(temp_df)):\n",
        "    temp_list_1.append(temp_df.iloc[idx]['등장횟수'])\n",
        "\n",
        "  temp_df['등장횟수'] = [str(x) + \"회\" for x in temp_list_1]\n",
        "\n",
        "  if star == 4:\n",
        "    # download 4 star def files\n",
        "    temp_df.to_csv(df_name +'.csv', index=False, encoding='CP949')\n",
        "    # files.download(df_name +'.csv')\n",
        "  elif star == 5:\n",
        "    # seperate ld def and non ld def\n",
        "    condition_1 = []\n",
        "    condition_2 = []\n",
        "    for idx in range(len(temp_df)):\n",
        "      for check in check_keys:\n",
        "        temp_str = re.sub('\\s+', '', temp_df.iloc[idx][check])\n",
        "        if temp_str[0] == '빛' or temp_str[0] == '암':\n",
        "          if temp_str[1:] not in MONSTER_LDNAT4_LIST:\n",
        "            condition_1.append(True)\n",
        "            condition_2.append(False)\n",
        "            break\n",
        "      else:\n",
        "        condition_1.append(False)\n",
        "        condition_2.append(True)\n",
        "\n",
        "    df_starld5_def = temp_df.loc[condition_1]\n",
        "    df_star5_def = temp_df.loc[condition_2]\n",
        "\n",
        "    # download files\n",
        "    df_starld5_def.to_csv(df_name + \"_ld\" + '.csv', index=False, encoding='CP949')\n",
        "    df_star5_def.to_csv(df_name +'.csv', index=False, encoding='CP949')\n",
        "\n",
        "    # files.download(df_name + \"_ld\" + '.csv')\n",
        "    # files.download(df_name +'.csv')\n",
        "  else:\n",
        "    return \"Error\"\n",
        "\n",
        "#-------------------------------------------------------------------------------------\n",
        "\n",
        "def count_unique_def_success(df_def, df_name):\n",
        "  dict_save_count = defaultdict(lambda:defaultdict(int))\n",
        "  standard_rate = 0\n",
        "\n",
        "  # remove duplicate by dictionary\n",
        "  for idx in range(len(df_def)):\n",
        "    temp_list = []\n",
        "    for check_key in check_keys:\n",
        "      temp_str = re.sub('\\s+', '', df_def.iloc[idx][check_key])\n",
        "      temp_list.append(temp_str)\n",
        "\n",
        "    temp_key = ' '.join(temp_list)\n",
        "\n",
        "    if not dict_save_count:\n",
        "      dict_save_count[temp_key]['총 공격받은 횟수'] += df_def.iloc[idx]['총 공격받은 횟수']\n",
        "      dict_save_count[temp_key]['방어횟수'] += df_def.iloc[idx]['방어횟수']\n",
        "    else:\n",
        "      for key in list(dict_save_count.keys()):\n",
        "          tmp_key_list = key.split()\n",
        "          tmp_sort_dict = sorted(tmp_key_list)\n",
        "          tmp_sort_list = sorted(temp_list)\n",
        "          if tmp_sort_dict == tmp_sort_list:\n",
        "            dict_save_count[key]['총 공격받은 횟수'] += df_def.iloc[idx]['총 공격받은 횟수']\n",
        "            dict_save_count[key]['방어횟수'] += df_def.iloc[idx]['방어횟수']\n",
        "            break\n",
        "      else:\n",
        "        dict_save_count[temp_key]['총 공격받은 횟수'] += df_def.iloc[idx]['총 공격받은 횟수']\n",
        "        dict_save_count[temp_key]['방어횟수'] += df_def.iloc[idx]['방어횟수']\n",
        "\n",
        "  temp_total_cnt = 0\n",
        "  for key in dict_save_count:\n",
        "    temp_total_cnt += dict_save_count[key]['총 공격받은 횟수']\n",
        "  standard_rate = (temp_total_cnt / (19 * 2 * 6)) # 서버 당 토너먼트 참가길드 수\n",
        "  print(standard_rate)\n",
        "\n",
        "  # set dataframe from dict_save_count\n",
        "  monster_1_list = []\n",
        "  monster_2_list = []\n",
        "  monster_3_list = []\n",
        "  all_def_cnt = []\n",
        "  def_success_cnt = []\n",
        "  def_rate = []\n",
        "  for data in dict_save_count:\n",
        "    monster_1_list.append(data.split()[0])\n",
        "    monster_2_list.append(data.split()[1])\n",
        "    monster_3_list.append(data.split()[2])\n",
        "    all_def_cnt.append(str(dict_save_count[data]['총 공격받은 횟수']) + \"회\")\n",
        "    def_success_cnt.append(str(dict_save_count[data]['방어횟수']) + \"회\")\n",
        "    def_rate.append(str(round((dict_save_count[data]['방어횟수'] / dict_save_count[data]['총 공격받은 횟수']) * 100, 2)) + \"%\")\n",
        "\n",
        "  temp_df = pd.DataFrame({'몬스터1':monster_1_list, '몬스터2':monster_2_list, '몬스터3':monster_3_list, '총 공격받은 횟수':all_def_cnt, '방어횟수':def_success_cnt, '방어율':def_rate})\n",
        "  df_sort_by_def_rate = temp_df[pd.to_numeric(temp_df['총 공격받은 횟수'].str[:-1]) >= standard_rate].sort_values(by=['방어율'], key=lambda x: pd.to_numeric(x.str[:-1]), ascending = False)\n",
        "  df_sort_by_def_cnt = temp_df.sort_values(by=['방어횟수'], key=lambda x: pd.to_numeric(x.str[:-1]), ascending = False)\n",
        "\n",
        "  # download files\n",
        "  df_sort_by_def_rate.to_csv(df_name + \"_rate\" +'.csv', index=False, encoding='CP949')\n",
        "  df_sort_by_def_cnt.to_csv(df_name + \"_cnt\" + '.csv', index=False, encoding='CP949')\n",
        "  # files.download(df_name + \"_rate\" +'.csv')\n",
        "  # files.download(df_name + \"_cnt\" + '.csv')\n",
        "\n",
        "  # return temp_df"
      ],
      "metadata": {
        "id": "TCw0VJ-w4phE"
      },
      "execution_count": null,
      "outputs": []
    },
    {
      "cell_type": "markdown",
      "source": [
        "#Merge Data"
      ],
      "metadata": {
        "id": "dHWNwJAHrZsf"
      }
    },
    {
      "cell_type": "code",
      "source": [
        "# set the path to the directory containing the CSV files\n",
        "path = '/content/'\n",
        "\n",
        "# get a list of all the CSV files in the directory\n",
        "csv_files = [f for f in os.listdir(path) if f.startswith('star') and f.endswith('.csv')]\n",
        "\n",
        "# loop through each file and read it into a pandas dataframe\n",
        "dataframes = []\n",
        "for filename in csv_files:\n",
        "    df = pd.read_csv(os.path.join(path, filename), encoding='CP949')\n",
        "    dataframes.append(df)\n",
        "\n",
        "df_names = ['df_star4_success_total',  'df_star5_success_total', 'df_star5_mon_total', 'df_star5_def_total','df_starld5_sucess_total', 'df_star4_def_total', 'df_star4_mon_total']\n",
        "df_server = '_GB'\n",
        "\n",
        "df_names_plus_server = []\n",
        "\n",
        "for idx in range(len(df_names)):\n",
        "  df_names_plus_server.append(df_names[idx]+df_server)\n",
        "\n",
        "# access each dataframe by index\n",
        "df_star5_mon_temp = dataframes[0]\n",
        "df_star4_mon_temp = dataframes[1]\n",
        "df_star5_def_temp = dataframes[2]\n",
        "df_star4_success_temp = dataframes[3]\n",
        "df_star5_success_temp = dataframes[4]\n",
        "df_star4_def_temp = dataframes[5]\n",
        "df_starld5_sucess_temp = dataframes[6]\n",
        "\n",
        "# 5mon/4mon/5def/4success/5success/4def/5ldsuccess"
      ],
      "metadata": {
        "id": "YXy4N7wxtPu4"
      },
      "execution_count": null,
      "outputs": []
    },
    {
      "cell_type": "code",
      "source": [
        "# Export base file\n",
        "for idx in range(len(dataframes)):\n",
        "  dataframes[idx].to_csv(df_names_plus_server[idx] +'.csv', index=False, encoding='CP949')\n",
        "  files.download(df_names[idx]+ df_server +'.csv')"
      ],
      "metadata": {
        "id": "EYr-WtXk4fhU",
        "colab": {
          "base_uri": "https://localhost:8080/",
          "height": 17
        },
        "outputId": "45e89699-4597-493a-ff65-c0bd680c8957"
      },
      "execution_count": null,
      "outputs": [
        {
          "output_type": "display_data",
          "data": {
            "text/plain": [
              "<IPython.core.display.Javascript object>"
            ],
            "application/javascript": [
              "\n",
              "    async function download(id, filename, size) {\n",
              "      if (!google.colab.kernel.accessAllowed) {\n",
              "        return;\n",
              "      }\n",
              "      const div = document.createElement('div');\n",
              "      const label = document.createElement('label');\n",
              "      label.textContent = `Downloading \"${filename}\": `;\n",
              "      div.appendChild(label);\n",
              "      const progress = document.createElement('progress');\n",
              "      progress.max = size;\n",
              "      div.appendChild(progress);\n",
              "      document.body.appendChild(div);\n",
              "\n",
              "      const buffers = [];\n",
              "      let downloaded = 0;\n",
              "\n",
              "      const channel = await google.colab.kernel.comms.open(id);\n",
              "      // Send a message to notify the kernel that we're ready.\n",
              "      channel.send({})\n",
              "\n",
              "      for await (const message of channel.messages) {\n",
              "        // Send a message to notify the kernel that we're ready.\n",
              "        channel.send({})\n",
              "        if (message.buffers) {\n",
              "          for (const buffer of message.buffers) {\n",
              "            buffers.push(buffer);\n",
              "            downloaded += buffer.byteLength;\n",
              "            progress.value = downloaded;\n",
              "          }\n",
              "        }\n",
              "      }\n",
              "      const blob = new Blob(buffers, {type: 'application/binary'});\n",
              "      const a = document.createElement('a');\n",
              "      a.href = window.URL.createObjectURL(blob);\n",
              "      a.download = filename;\n",
              "      div.appendChild(a);\n",
              "      a.click();\n",
              "      div.remove();\n",
              "    }\n",
              "  "
            ]
          },
          "metadata": {}
        },
        {
          "output_type": "display_data",
          "data": {
            "text/plain": [
              "<IPython.core.display.Javascript object>"
            ],
            "application/javascript": [
              "download(\"download_f380b867-bfb8-446b-82b3-d71dfe8ad4f8\", \"df_star4_success_total_EU.csv\", 2226)"
            ]
          },
          "metadata": {}
        },
        {
          "output_type": "display_data",
          "data": {
            "text/plain": [
              "<IPython.core.display.Javascript object>"
            ],
            "application/javascript": [
              "\n",
              "    async function download(id, filename, size) {\n",
              "      if (!google.colab.kernel.accessAllowed) {\n",
              "        return;\n",
              "      }\n",
              "      const div = document.createElement('div');\n",
              "      const label = document.createElement('label');\n",
              "      label.textContent = `Downloading \"${filename}\": `;\n",
              "      div.appendChild(label);\n",
              "      const progress = document.createElement('progress');\n",
              "      progress.max = size;\n",
              "      div.appendChild(progress);\n",
              "      document.body.appendChild(div);\n",
              "\n",
              "      const buffers = [];\n",
              "      let downloaded = 0;\n",
              "\n",
              "      const channel = await google.colab.kernel.comms.open(id);\n",
              "      // Send a message to notify the kernel that we're ready.\n",
              "      channel.send({})\n",
              "\n",
              "      for await (const message of channel.messages) {\n",
              "        // Send a message to notify the kernel that we're ready.\n",
              "        channel.send({})\n",
              "        if (message.buffers) {\n",
              "          for (const buffer of message.buffers) {\n",
              "            buffers.push(buffer);\n",
              "            downloaded += buffer.byteLength;\n",
              "            progress.value = downloaded;\n",
              "          }\n",
              "        }\n",
              "      }\n",
              "      const blob = new Blob(buffers, {type: 'application/binary'});\n",
              "      const a = document.createElement('a');\n",
              "      a.href = window.URL.createObjectURL(blob);\n",
              "      a.download = filename;\n",
              "      div.appendChild(a);\n",
              "      a.click();\n",
              "      div.remove();\n",
              "    }\n",
              "  "
            ]
          },
          "metadata": {}
        },
        {
          "output_type": "display_data",
          "data": {
            "text/plain": [
              "<IPython.core.display.Javascript object>"
            ],
            "application/javascript": [
              "download(\"download_7bf297f5-2332-4923-8af3-eb9c2b46fb40\", \"df_star5_success_total_EU.csv\", 2637)"
            ]
          },
          "metadata": {}
        },
        {
          "output_type": "display_data",
          "data": {
            "text/plain": [
              "<IPython.core.display.Javascript object>"
            ],
            "application/javascript": [
              "\n",
              "    async function download(id, filename, size) {\n",
              "      if (!google.colab.kernel.accessAllowed) {\n",
              "        return;\n",
              "      }\n",
              "      const div = document.createElement('div');\n",
              "      const label = document.createElement('label');\n",
              "      label.textContent = `Downloading \"${filename}\": `;\n",
              "      div.appendChild(label);\n",
              "      const progress = document.createElement('progress');\n",
              "      progress.max = size;\n",
              "      div.appendChild(progress);\n",
              "      document.body.appendChild(div);\n",
              "\n",
              "      const buffers = [];\n",
              "      let downloaded = 0;\n",
              "\n",
              "      const channel = await google.colab.kernel.comms.open(id);\n",
              "      // Send a message to notify the kernel that we're ready.\n",
              "      channel.send({})\n",
              "\n",
              "      for await (const message of channel.messages) {\n",
              "        // Send a message to notify the kernel that we're ready.\n",
              "        channel.send({})\n",
              "        if (message.buffers) {\n",
              "          for (const buffer of message.buffers) {\n",
              "            buffers.push(buffer);\n",
              "            downloaded += buffer.byteLength;\n",
              "            progress.value = downloaded;\n",
              "          }\n",
              "        }\n",
              "      }\n",
              "      const blob = new Blob(buffers, {type: 'application/binary'});\n",
              "      const a = document.createElement('a');\n",
              "      a.href = window.URL.createObjectURL(blob);\n",
              "      a.download = filename;\n",
              "      div.appendChild(a);\n",
              "      a.click();\n",
              "      div.remove();\n",
              "    }\n",
              "  "
            ]
          },
          "metadata": {}
        },
        {
          "output_type": "display_data",
          "data": {
            "text/plain": [
              "<IPython.core.display.Javascript object>"
            ],
            "application/javascript": [
              "download(\"download_cb991255-8fc7-4f14-8525-edc979607595\", \"df_star5_mon_total_EU.csv\", 2586)"
            ]
          },
          "metadata": {}
        },
        {
          "output_type": "display_data",
          "data": {
            "text/plain": [
              "<IPython.core.display.Javascript object>"
            ],
            "application/javascript": [
              "\n",
              "    async function download(id, filename, size) {\n",
              "      if (!google.colab.kernel.accessAllowed) {\n",
              "        return;\n",
              "      }\n",
              "      const div = document.createElement('div');\n",
              "      const label = document.createElement('label');\n",
              "      label.textContent = `Downloading \"${filename}\": `;\n",
              "      div.appendChild(label);\n",
              "      const progress = document.createElement('progress');\n",
              "      progress.max = size;\n",
              "      div.appendChild(progress);\n",
              "      document.body.appendChild(div);\n",
              "\n",
              "      const buffers = [];\n",
              "      let downloaded = 0;\n",
              "\n",
              "      const channel = await google.colab.kernel.comms.open(id);\n",
              "      // Send a message to notify the kernel that we're ready.\n",
              "      channel.send({})\n",
              "\n",
              "      for await (const message of channel.messages) {\n",
              "        // Send a message to notify the kernel that we're ready.\n",
              "        channel.send({})\n",
              "        if (message.buffers) {\n",
              "          for (const buffer of message.buffers) {\n",
              "            buffers.push(buffer);\n",
              "            downloaded += buffer.byteLength;\n",
              "            progress.value = downloaded;\n",
              "          }\n",
              "        }\n",
              "      }\n",
              "      const blob = new Blob(buffers, {type: 'application/binary'});\n",
              "      const a = document.createElement('a');\n",
              "      a.href = window.URL.createObjectURL(blob);\n",
              "      a.download = filename;\n",
              "      div.appendChild(a);\n",
              "      a.click();\n",
              "      div.remove();\n",
              "    }\n",
              "  "
            ]
          },
          "metadata": {}
        },
        {
          "output_type": "display_data",
          "data": {
            "text/plain": [
              "<IPython.core.display.Javascript object>"
            ],
            "application/javascript": [
              "download(\"download_8a17ab5d-f8bb-4133-8093-c68de95a01d4\", \"df_star5_def_total_EU.csv\", 16832)"
            ]
          },
          "metadata": {}
        },
        {
          "output_type": "display_data",
          "data": {
            "text/plain": [
              "<IPython.core.display.Javascript object>"
            ],
            "application/javascript": [
              "\n",
              "    async function download(id, filename, size) {\n",
              "      if (!google.colab.kernel.accessAllowed) {\n",
              "        return;\n",
              "      }\n",
              "      const div = document.createElement('div');\n",
              "      const label = document.createElement('label');\n",
              "      label.textContent = `Downloading \"${filename}\": `;\n",
              "      div.appendChild(label);\n",
              "      const progress = document.createElement('progress');\n",
              "      progress.max = size;\n",
              "      div.appendChild(progress);\n",
              "      document.body.appendChild(div);\n",
              "\n",
              "      const buffers = [];\n",
              "      let downloaded = 0;\n",
              "\n",
              "      const channel = await google.colab.kernel.comms.open(id);\n",
              "      // Send a message to notify the kernel that we're ready.\n",
              "      channel.send({})\n",
              "\n",
              "      for await (const message of channel.messages) {\n",
              "        // Send a message to notify the kernel that we're ready.\n",
              "        channel.send({})\n",
              "        if (message.buffers) {\n",
              "          for (const buffer of message.buffers) {\n",
              "            buffers.push(buffer);\n",
              "            downloaded += buffer.byteLength;\n",
              "            progress.value = downloaded;\n",
              "          }\n",
              "        }\n",
              "      }\n",
              "      const blob = new Blob(buffers, {type: 'application/binary'});\n",
              "      const a = document.createElement('a');\n",
              "      a.href = window.URL.createObjectURL(blob);\n",
              "      a.download = filename;\n",
              "      div.appendChild(a);\n",
              "      a.click();\n",
              "      div.remove();\n",
              "    }\n",
              "  "
            ]
          },
          "metadata": {}
        },
        {
          "output_type": "display_data",
          "data": {
            "text/plain": [
              "<IPython.core.display.Javascript object>"
            ],
            "application/javascript": [
              "download(\"download_9a163aa6-cba8-4faf-9a3b-fe7cbc4d71e9\", \"df_starld5_sucess_total_EU.csv\", 11349)"
            ]
          },
          "metadata": {}
        },
        {
          "output_type": "display_data",
          "data": {
            "text/plain": [
              "<IPython.core.display.Javascript object>"
            ],
            "application/javascript": [
              "\n",
              "    async function download(id, filename, size) {\n",
              "      if (!google.colab.kernel.accessAllowed) {\n",
              "        return;\n",
              "      }\n",
              "      const div = document.createElement('div');\n",
              "      const label = document.createElement('label');\n",
              "      label.textContent = `Downloading \"${filename}\": `;\n",
              "      div.appendChild(label);\n",
              "      const progress = document.createElement('progress');\n",
              "      progress.max = size;\n",
              "      div.appendChild(progress);\n",
              "      document.body.appendChild(div);\n",
              "\n",
              "      const buffers = [];\n",
              "      let downloaded = 0;\n",
              "\n",
              "      const channel = await google.colab.kernel.comms.open(id);\n",
              "      // Send a message to notify the kernel that we're ready.\n",
              "      channel.send({})\n",
              "\n",
              "      for await (const message of channel.messages) {\n",
              "        // Send a message to notify the kernel that we're ready.\n",
              "        channel.send({})\n",
              "        if (message.buffers) {\n",
              "          for (const buffer of message.buffers) {\n",
              "            buffers.push(buffer);\n",
              "            downloaded += buffer.byteLength;\n",
              "            progress.value = downloaded;\n",
              "          }\n",
              "        }\n",
              "      }\n",
              "      const blob = new Blob(buffers, {type: 'application/binary'});\n",
              "      const a = document.createElement('a');\n",
              "      a.href = window.URL.createObjectURL(blob);\n",
              "      a.download = filename;\n",
              "      div.appendChild(a);\n",
              "      a.click();\n",
              "      div.remove();\n",
              "    }\n",
              "  "
            ]
          },
          "metadata": {}
        },
        {
          "output_type": "display_data",
          "data": {
            "text/plain": [
              "<IPython.core.display.Javascript object>"
            ],
            "application/javascript": [
              "download(\"download_5d216b22-8773-4d5c-83f4-bf876f4f84da\", \"df_star4_def_total_EU.csv\", 2407)"
            ]
          },
          "metadata": {}
        },
        {
          "output_type": "display_data",
          "data": {
            "text/plain": [
              "<IPython.core.display.Javascript object>"
            ],
            "application/javascript": [
              "\n",
              "    async function download(id, filename, size) {\n",
              "      if (!google.colab.kernel.accessAllowed) {\n",
              "        return;\n",
              "      }\n",
              "      const div = document.createElement('div');\n",
              "      const label = document.createElement('label');\n",
              "      label.textContent = `Downloading \"${filename}\": `;\n",
              "      div.appendChild(label);\n",
              "      const progress = document.createElement('progress');\n",
              "      progress.max = size;\n",
              "      div.appendChild(progress);\n",
              "      document.body.appendChild(div);\n",
              "\n",
              "      const buffers = [];\n",
              "      let downloaded = 0;\n",
              "\n",
              "      const channel = await google.colab.kernel.comms.open(id);\n",
              "      // Send a message to notify the kernel that we're ready.\n",
              "      channel.send({})\n",
              "\n",
              "      for await (const message of channel.messages) {\n",
              "        // Send a message to notify the kernel that we're ready.\n",
              "        channel.send({})\n",
              "        if (message.buffers) {\n",
              "          for (const buffer of message.buffers) {\n",
              "            buffers.push(buffer);\n",
              "            downloaded += buffer.byteLength;\n",
              "            progress.value = downloaded;\n",
              "          }\n",
              "        }\n",
              "      }\n",
              "      const blob = new Blob(buffers, {type: 'application/binary'});\n",
              "      const a = document.createElement('a');\n",
              "      a.href = window.URL.createObjectURL(blob);\n",
              "      a.download = filename;\n",
              "      div.appendChild(a);\n",
              "      a.click();\n",
              "      div.remove();\n",
              "    }\n",
              "  "
            ]
          },
          "metadata": {}
        },
        {
          "output_type": "display_data",
          "data": {
            "text/plain": [
              "<IPython.core.display.Javascript object>"
            ],
            "application/javascript": [
              "download(\"download_d70f4767-a530-44a9-adbb-87d3964fa92e\", \"df_star4_mon_total_EU.csv\", 743)"
            ]
          },
          "metadata": {}
        }
      ]
    },
    {
      "cell_type": "code",
      "source": [
        "# Merge df\n",
        "total_dataframes = []\n",
        "for idx in range(len(df_names_plus_server)):\n",
        "    df = pd.read_csv(df_names_plus_server[idx] + '.csv', encoding='CP949')\n",
        "    total_dataframes.append(df)\n",
        "\n",
        "for idx in range(len(dataframes)):\n",
        "  df = pd.concat([total_dataframes[idx], dataframes[idx]])\n",
        "  df.to_csv(df_names[idx] + df_server +'.csv', index=False, encoding='CP949')\n",
        "  files.download(df_names[idx]+ df_server +'.csv')"
      ],
      "metadata": {
        "colab": {
          "base_uri": "https://localhost:8080/",
          "height": 17
        },
        "id": "yW9yUJuva84o",
        "outputId": "48ebfe30-5427-4fdb-d039-e8c94e4ba6ec"
      },
      "execution_count": null,
      "outputs": [
        {
          "output_type": "display_data",
          "data": {
            "text/plain": [
              "<IPython.core.display.Javascript object>"
            ],
            "application/javascript": [
              "\n",
              "    async function download(id, filename, size) {\n",
              "      if (!google.colab.kernel.accessAllowed) {\n",
              "        return;\n",
              "      }\n",
              "      const div = document.createElement('div');\n",
              "      const label = document.createElement('label');\n",
              "      label.textContent = `Downloading \"${filename}\": `;\n",
              "      div.appendChild(label);\n",
              "      const progress = document.createElement('progress');\n",
              "      progress.max = size;\n",
              "      div.appendChild(progress);\n",
              "      document.body.appendChild(div);\n",
              "\n",
              "      const buffers = [];\n",
              "      let downloaded = 0;\n",
              "\n",
              "      const channel = await google.colab.kernel.comms.open(id);\n",
              "      // Send a message to notify the kernel that we're ready.\n",
              "      channel.send({})\n",
              "\n",
              "      for await (const message of channel.messages) {\n",
              "        // Send a message to notify the kernel that we're ready.\n",
              "        channel.send({})\n",
              "        if (message.buffers) {\n",
              "          for (const buffer of message.buffers) {\n",
              "            buffers.push(buffer);\n",
              "            downloaded += buffer.byteLength;\n",
              "            progress.value = downloaded;\n",
              "          }\n",
              "        }\n",
              "      }\n",
              "      const blob = new Blob(buffers, {type: 'application/binary'});\n",
              "      const a = document.createElement('a');\n",
              "      a.href = window.URL.createObjectURL(blob);\n",
              "      a.download = filename;\n",
              "      div.appendChild(a);\n",
              "      a.click();\n",
              "      div.remove();\n",
              "    }\n",
              "  "
            ]
          },
          "metadata": {}
        },
        {
          "output_type": "display_data",
          "data": {
            "text/plain": [
              "<IPython.core.display.Javascript object>"
            ],
            "application/javascript": [
              "download(\"download_224e5685-7dcb-4fa5-a661-3aaa436595e2\", \"df_star4_success_total_GB.csv\", 3366)"
            ]
          },
          "metadata": {}
        },
        {
          "output_type": "display_data",
          "data": {
            "text/plain": [
              "<IPython.core.display.Javascript object>"
            ],
            "application/javascript": [
              "\n",
              "    async function download(id, filename, size) {\n",
              "      if (!google.colab.kernel.accessAllowed) {\n",
              "        return;\n",
              "      }\n",
              "      const div = document.createElement('div');\n",
              "      const label = document.createElement('label');\n",
              "      label.textContent = `Downloading \"${filename}\": `;\n",
              "      div.appendChild(label);\n",
              "      const progress = document.createElement('progress');\n",
              "      progress.max = size;\n",
              "      div.appendChild(progress);\n",
              "      document.body.appendChild(div);\n",
              "\n",
              "      const buffers = [];\n",
              "      let downloaded = 0;\n",
              "\n",
              "      const channel = await google.colab.kernel.comms.open(id);\n",
              "      // Send a message to notify the kernel that we're ready.\n",
              "      channel.send({})\n",
              "\n",
              "      for await (const message of channel.messages) {\n",
              "        // Send a message to notify the kernel that we're ready.\n",
              "        channel.send({})\n",
              "        if (message.buffers) {\n",
              "          for (const buffer of message.buffers) {\n",
              "            buffers.push(buffer);\n",
              "            downloaded += buffer.byteLength;\n",
              "            progress.value = downloaded;\n",
              "          }\n",
              "        }\n",
              "      }\n",
              "      const blob = new Blob(buffers, {type: 'application/binary'});\n",
              "      const a = document.createElement('a');\n",
              "      a.href = window.URL.createObjectURL(blob);\n",
              "      a.download = filename;\n",
              "      div.appendChild(a);\n",
              "      a.click();\n",
              "      div.remove();\n",
              "    }\n",
              "  "
            ]
          },
          "metadata": {}
        },
        {
          "output_type": "display_data",
          "data": {
            "text/plain": [
              "<IPython.core.display.Javascript object>"
            ],
            "application/javascript": [
              "download(\"download_0e753dc5-86eb-4c4b-b7e9-0265fc087d3e\", \"df_star5_success_total_GB.csv\", 8410)"
            ]
          },
          "metadata": {}
        },
        {
          "output_type": "display_data",
          "data": {
            "text/plain": [
              "<IPython.core.display.Javascript object>"
            ],
            "application/javascript": [
              "\n",
              "    async function download(id, filename, size) {\n",
              "      if (!google.colab.kernel.accessAllowed) {\n",
              "        return;\n",
              "      }\n",
              "      const div = document.createElement('div');\n",
              "      const label = document.createElement('label');\n",
              "      label.textContent = `Downloading \"${filename}\": `;\n",
              "      div.appendChild(label);\n",
              "      const progress = document.createElement('progress');\n",
              "      progress.max = size;\n",
              "      div.appendChild(progress);\n",
              "      document.body.appendChild(div);\n",
              "\n",
              "      const buffers = [];\n",
              "      let downloaded = 0;\n",
              "\n",
              "      const channel = await google.colab.kernel.comms.open(id);\n",
              "      // Send a message to notify the kernel that we're ready.\n",
              "      channel.send({})\n",
              "\n",
              "      for await (const message of channel.messages) {\n",
              "        // Send a message to notify the kernel that we're ready.\n",
              "        channel.send({})\n",
              "        if (message.buffers) {\n",
              "          for (const buffer of message.buffers) {\n",
              "            buffers.push(buffer);\n",
              "            downloaded += buffer.byteLength;\n",
              "            progress.value = downloaded;\n",
              "          }\n",
              "        }\n",
              "      }\n",
              "      const blob = new Blob(buffers, {type: 'application/binary'});\n",
              "      const a = document.createElement('a');\n",
              "      a.href = window.URL.createObjectURL(blob);\n",
              "      a.download = filename;\n",
              "      div.appendChild(a);\n",
              "      a.click();\n",
              "      div.remove();\n",
              "    }\n",
              "  "
            ]
          },
          "metadata": {}
        },
        {
          "output_type": "display_data",
          "data": {
            "text/plain": [
              "<IPython.core.display.Javascript object>"
            ],
            "application/javascript": [
              "download(\"download_e22529a5-2799-4cdb-8389-b46640195299\", \"df_star5_mon_total_GB.csv\", 9294)"
            ]
          },
          "metadata": {}
        },
        {
          "output_type": "display_data",
          "data": {
            "text/plain": [
              "<IPython.core.display.Javascript object>"
            ],
            "application/javascript": [
              "\n",
              "    async function download(id, filename, size) {\n",
              "      if (!google.colab.kernel.accessAllowed) {\n",
              "        return;\n",
              "      }\n",
              "      const div = document.createElement('div');\n",
              "      const label = document.createElement('label');\n",
              "      label.textContent = `Downloading \"${filename}\": `;\n",
              "      div.appendChild(label);\n",
              "      const progress = document.createElement('progress');\n",
              "      progress.max = size;\n",
              "      div.appendChild(progress);\n",
              "      document.body.appendChild(div);\n",
              "\n",
              "      const buffers = [];\n",
              "      let downloaded = 0;\n",
              "\n",
              "      const channel = await google.colab.kernel.comms.open(id);\n",
              "      // Send a message to notify the kernel that we're ready.\n",
              "      channel.send({})\n",
              "\n",
              "      for await (const message of channel.messages) {\n",
              "        // Send a message to notify the kernel that we're ready.\n",
              "        channel.send({})\n",
              "        if (message.buffers) {\n",
              "          for (const buffer of message.buffers) {\n",
              "            buffers.push(buffer);\n",
              "            downloaded += buffer.byteLength;\n",
              "            progress.value = downloaded;\n",
              "          }\n",
              "        }\n",
              "      }\n",
              "      const blob = new Blob(buffers, {type: 'application/binary'});\n",
              "      const a = document.createElement('a');\n",
              "      a.href = window.URL.createObjectURL(blob);\n",
              "      a.download = filename;\n",
              "      div.appendChild(a);\n",
              "      a.click();\n",
              "      div.remove();\n",
              "    }\n",
              "  "
            ]
          },
          "metadata": {}
        },
        {
          "output_type": "display_data",
          "data": {
            "text/plain": [
              "<IPython.core.display.Javascript object>"
            ],
            "application/javascript": [
              "download(\"download_6ef34ba1-fa51-4dcb-8374-6b962f39ca90\", \"df_star5_def_total_GB.csv\", 42133)"
            ]
          },
          "metadata": {}
        },
        {
          "output_type": "display_data",
          "data": {
            "text/plain": [
              "<IPython.core.display.Javascript object>"
            ],
            "application/javascript": [
              "\n",
              "    async function download(id, filename, size) {\n",
              "      if (!google.colab.kernel.accessAllowed) {\n",
              "        return;\n",
              "      }\n",
              "      const div = document.createElement('div');\n",
              "      const label = document.createElement('label');\n",
              "      label.textContent = `Downloading \"${filename}\": `;\n",
              "      div.appendChild(label);\n",
              "      const progress = document.createElement('progress');\n",
              "      progress.max = size;\n",
              "      div.appendChild(progress);\n",
              "      document.body.appendChild(div);\n",
              "\n",
              "      const buffers = [];\n",
              "      let downloaded = 0;\n",
              "\n",
              "      const channel = await google.colab.kernel.comms.open(id);\n",
              "      // Send a message to notify the kernel that we're ready.\n",
              "      channel.send({})\n",
              "\n",
              "      for await (const message of channel.messages) {\n",
              "        // Send a message to notify the kernel that we're ready.\n",
              "        channel.send({})\n",
              "        if (message.buffers) {\n",
              "          for (const buffer of message.buffers) {\n",
              "            buffers.push(buffer);\n",
              "            downloaded += buffer.byteLength;\n",
              "            progress.value = downloaded;\n",
              "          }\n",
              "        }\n",
              "      }\n",
              "      const blob = new Blob(buffers, {type: 'application/binary'});\n",
              "      const a = document.createElement('a');\n",
              "      a.href = window.URL.createObjectURL(blob);\n",
              "      a.download = filename;\n",
              "      div.appendChild(a);\n",
              "      a.click();\n",
              "      div.remove();\n",
              "    }\n",
              "  "
            ]
          },
          "metadata": {}
        },
        {
          "output_type": "display_data",
          "data": {
            "text/plain": [
              "<IPython.core.display.Javascript object>"
            ],
            "application/javascript": [
              "download(\"download_a1d43824-9bce-4c20-9597-658aa8d4b4de\", \"df_starld5_sucess_total_GB.csv\", 25810)"
            ]
          },
          "metadata": {}
        },
        {
          "output_type": "display_data",
          "data": {
            "text/plain": [
              "<IPython.core.display.Javascript object>"
            ],
            "application/javascript": [
              "\n",
              "    async function download(id, filename, size) {\n",
              "      if (!google.colab.kernel.accessAllowed) {\n",
              "        return;\n",
              "      }\n",
              "      const div = document.createElement('div');\n",
              "      const label = document.createElement('label');\n",
              "      label.textContent = `Downloading \"${filename}\": `;\n",
              "      div.appendChild(label);\n",
              "      const progress = document.createElement('progress');\n",
              "      progress.max = size;\n",
              "      div.appendChild(progress);\n",
              "      document.body.appendChild(div);\n",
              "\n",
              "      const buffers = [];\n",
              "      let downloaded = 0;\n",
              "\n",
              "      const channel = await google.colab.kernel.comms.open(id);\n",
              "      // Send a message to notify the kernel that we're ready.\n",
              "      channel.send({})\n",
              "\n",
              "      for await (const message of channel.messages) {\n",
              "        // Send a message to notify the kernel that we're ready.\n",
              "        channel.send({})\n",
              "        if (message.buffers) {\n",
              "          for (const buffer of message.buffers) {\n",
              "            buffers.push(buffer);\n",
              "            downloaded += buffer.byteLength;\n",
              "            progress.value = downloaded;\n",
              "          }\n",
              "        }\n",
              "      }\n",
              "      const blob = new Blob(buffers, {type: 'application/binary'});\n",
              "      const a = document.createElement('a');\n",
              "      a.href = window.URL.createObjectURL(blob);\n",
              "      a.download = filename;\n",
              "      div.appendChild(a);\n",
              "      a.click();\n",
              "      div.remove();\n",
              "    }\n",
              "  "
            ]
          },
          "metadata": {}
        },
        {
          "output_type": "display_data",
          "data": {
            "text/plain": [
              "<IPython.core.display.Javascript object>"
            ],
            "application/javascript": [
              "download(\"download_b2fd078c-5c81-4133-a8da-348c4de867d4\", \"df_star4_def_total_GB.csv\", 4159)"
            ]
          },
          "metadata": {}
        },
        {
          "output_type": "display_data",
          "data": {
            "text/plain": [
              "<IPython.core.display.Javascript object>"
            ],
            "application/javascript": [
              "\n",
              "    async function download(id, filename, size) {\n",
              "      if (!google.colab.kernel.accessAllowed) {\n",
              "        return;\n",
              "      }\n",
              "      const div = document.createElement('div');\n",
              "      const label = document.createElement('label');\n",
              "      label.textContent = `Downloading \"${filename}\": `;\n",
              "      div.appendChild(label);\n",
              "      const progress = document.createElement('progress');\n",
              "      progress.max = size;\n",
              "      div.appendChild(progress);\n",
              "      document.body.appendChild(div);\n",
              "\n",
              "      const buffers = [];\n",
              "      let downloaded = 0;\n",
              "\n",
              "      const channel = await google.colab.kernel.comms.open(id);\n",
              "      // Send a message to notify the kernel that we're ready.\n",
              "      channel.send({})\n",
              "\n",
              "      for await (const message of channel.messages) {\n",
              "        // Send a message to notify the kernel that we're ready.\n",
              "        channel.send({})\n",
              "        if (message.buffers) {\n",
              "          for (const buffer of message.buffers) {\n",
              "            buffers.push(buffer);\n",
              "            downloaded += buffer.byteLength;\n",
              "            progress.value = downloaded;\n",
              "          }\n",
              "        }\n",
              "      }\n",
              "      const blob = new Blob(buffers, {type: 'application/binary'});\n",
              "      const a = document.createElement('a');\n",
              "      a.href = window.URL.createObjectURL(blob);\n",
              "      a.download = filename;\n",
              "      div.appendChild(a);\n",
              "      a.click();\n",
              "      div.remove();\n",
              "    }\n",
              "  "
            ]
          },
          "metadata": {}
        },
        {
          "output_type": "display_data",
          "data": {
            "text/plain": [
              "<IPython.core.display.Javascript object>"
            ],
            "application/javascript": [
              "download(\"download_f47de360-aaf3-4c94-89e7-bab4308050e2\", \"df_star4_mon_total_GB.csv\", 1850)"
            ]
          },
          "metadata": {}
        }
      ]
    },
    {
      "cell_type": "code",
      "source": [
        "folder_path = '/content/' # 삭제할 파일들이 들어있는 폴더 경로\n",
        "files = os.listdir(folder_path) # 폴더 내 모든 파일들의 이름 리스트로 저장\n",
        "\n",
        "for file in files:\n",
        "    file_path = os.path.join(folder_path, file) # 폴더 경로와 파일 이름 합치기\n",
        "    if os.path.isfile(file_path): # 파일인 경우에만 삭제\n",
        "        os.remove(file_path)\n",
        "        print(f\"{file_path}가 성공적으로 삭제되었습니다.\")"
      ],
      "metadata": {
        "id": "Xp-jkxn-5NmS"
      },
      "execution_count": null,
      "outputs": []
    },
    {
      "cell_type": "markdown",
      "source": [
        "#Total Data analysis"
      ],
      "metadata": {
        "id": "ORfv61lbrVGZ"
      }
    },
    {
      "cell_type": "code",
      "source": [
        "MONSTER_LDNAT4_LIST = ['프랑켄', '아수라', '팬텀시프','야만왕', '네오스톤파이터', '요괴무사', '머메이드', '주사위술사', '마법검사', '쿵푸걸', '늑대인간','차크람무녀', '부메랑전사', '호루스', '꿈냥이', '조커']\n",
        "df_names = ['df_star5_mon_total', 'df_star4_mon_total', 'df_star5_def_total', 'df_star4_def_total', 'df_star5_success_total', 'df_starld5_sucess_total', 'df_star4_success_total']\n",
        "df_server_list = ['_KR','_AS','_CN','_JP','_GB','_EU']\n",
        "# df_server_list = ['_KR','_AS','_JP','_GB','_EU'] # except outlier\n",
        "check_keys = ['몬스터1','몬스터2','몬스터3']\n",
        "plt.rc('font', family='NanumBarunGothic', size = 15)\n",
        "plt.rcParams[\"figure.figsize\"] = (14,10)"
      ],
      "metadata": {
        "id": "vr1bxPsPrEM4"
      },
      "execution_count": null,
      "outputs": []
    },
    {
      "cell_type": "code",
      "source": [
        "total_merge_df_list = []\n",
        "total_length_list = []\n",
        "\n",
        "# merge all server df\n",
        "for df_name in df_names:\n",
        "  total_length = 0\n",
        "  total_temp_df_list = []\n",
        "  for df_server in df_server_list:\n",
        "    df = pd.read_csv(df_name + df_server + '.csv', encoding = 'CP949')\n",
        "    total_length += len(df)\n",
        "    total_temp_df_list.append(df)\n",
        "\n",
        "  total_merge_df_list.append(pd.concat(total_temp_df_list))\n",
        "  total_length_list.append(total_length)\n",
        "\n",
        "# check lost data\n",
        "for idx in range(len(total_merge_df_list)):\n",
        "  print(df_names[idx] + \" is \" + str(len(total_merge_df_list[idx]) == total_length_list[idx]))"
      ],
      "metadata": {
        "colab": {
          "base_uri": "https://localhost:8080/"
        },
        "id": "LfvMj-for9WR",
        "outputId": "c7511a3b-e21e-4ccd-e39f-6d917a773438"
      },
      "execution_count": null,
      "outputs": [
        {
          "output_type": "stream",
          "name": "stdout",
          "text": [
            "df_star5_mon_total is True\n",
            "df_star4_mon_total is True\n",
            "df_star5_def_total is True\n",
            "df_star4_def_total is True\n",
            "df_star5_success_total is True\n",
            "df_starld5_sucess_total is True\n",
            "df_star4_success_total is True\n"
          ]
        }
      ]
    },
    {
      "cell_type": "code",
      "source": [
        "df_star5, df_starld5 = organize_df_mon(total_merge_df_list[0], 5, df_names[0])\n",
        "df_star4 = organize_df_mon(total_merge_df_list[1], 4, df_names[1])"
      ],
      "metadata": {
        "id": "Umw_B2Sy0CNb"
      },
      "execution_count": null,
      "outputs": []
    },
    {
      "cell_type": "code",
      "source": [
        "star4_list = ['머메이드', '하늘 무희', '피에레트', '스나이퍼', '요괴무사', '쿵푸걸', '늑대인간', '마법 검사', '하이 엘리멘탈', '광전사', '부메랑 전사', '차크람 무녀',\n",
        "          '하프술사', '아누비스', '조커', '꿈냥이', '브라우니 요술사', '아수라', 'ROBO', '팬텀시프', '프랑켄', '주사위술사', '야만왕', '잭 오 랜턴', '이누가미', '호루스', '해적선장']\n",
        "\n",
        "total_count_4 = 0\n",
        "total_count_5 = 0\n",
        "for idx in range(len(df_star5)):\n",
        "  if df_star5['몬스터'].iloc[idx][2:] in star4_list:\n",
        "    total_count_4 += df_star5['횟수'].iloc[idx]\n",
        "  else:\n",
        "    total_count_5 += df_star5['횟수'].iloc[idx]\n",
        "\n",
        "print(total_count_4)\n",
        "print(total_count_5)"
      ],
      "metadata": {
        "colab": {
          "base_uri": "https://localhost:8080/"
        },
        "id": "lAIcgk61GNoW",
        "outputId": "b45e318e-da26-4200-f451-c0db2488bb71"
      },
      "execution_count": null,
      "outputs": [
        {
          "output_type": "stream",
          "name": "stdout",
          "text": [
            "36009\n",
            "48110\n"
          ]
        }
      ]
    },
    {
      "cell_type": "code",
      "source": [
        "make_plt(10, df_starld5)\n",
        "make_plt(10, df_star5)\n",
        "make_plt(10, df_star4)"
      ],
      "metadata": {
        "id": "IuqBP_uk-54x"
      },
      "execution_count": null,
      "outputs": []
    },
    {
      "cell_type": "code",
      "source": [
        "remove_duplication_in_def(total_merge_df_list[2], 5, df_names[2])\n",
        "remove_duplication_in_def(total_merge_df_list[3], 4, df_names[3])\n",
        "count_unique_def_success(total_merge_df_list[4], df_names[4])\n",
        "count_unique_def_success(total_merge_df_list[5], df_names[5])\n",
        "count_unique_def_success(total_merge_df_list[6], df_names[6])"
      ],
      "metadata": {
        "colab": {
          "base_uri": "https://localhost:8080/"
        },
        "id": "Oj-Uszi5eChS",
        "outputId": "7463c893-6d40-4a4c-ac49-de90b3522e66"
      },
      "execution_count": null,
      "outputs": [
        {
          "output_type": "stream",
          "name": "stdout",
          "text": [
            "33.10526315789474\n",
            "118.89473684210526\n",
            "85.42105263157895\n"
          ]
        }
      ]
    },
    {
      "cell_type": "markdown",
      "source": [
        "#Get average data"
      ],
      "metadata": {
        "id": "BndeihETYfGp"
      }
    },
    {
      "cell_type": "code",
      "source": [
        "df1 = pd.read_csv('df_star4_success_total_cnt.csv', encoding = 'CP949')\n",
        "df2 = pd.read_csv('df_star4_success_total_rate.csv', encoding = 'CP949')\n",
        "df3 = pd.read_csv('df_star5_success_total_cnt.csv', encoding = 'CP949')\n",
        "df4 = pd.read_csv('df_star5_success_total_rate.csv', encoding = 'CP949')\n",
        "df5 = pd.read_csv('df_starld5_sucess_total_cnt.csv', encoding = 'CP949')\n",
        "df6 = pd.read_csv('df_starld5_sucess_total_rate.csv', encoding = 'CP949')\n",
        "df7 = pd.read_csv('df_star4_def_total.csv', encoding = 'CP949')\n",
        "df8 = pd.read_csv('df_star5_def_total.csv', encoding = 'CP949')\n",
        "df9 = pd.read_csv('df_star5_def_total_ld.csv', encoding = 'CP949')"
      ],
      "metadata": {
        "id": "f5NhvCw-YjCV"
      },
      "execution_count": null,
      "outputs": []
    },
    {
      "cell_type": "code",
      "source": [
        "def get_average_rate(df1):\n",
        "  sum_root = 0\n",
        "  sum_roof = 0\n",
        "  sum_rate = 1\n",
        "  cnt = 0\n",
        "  for idx in range(len(df1)):\n",
        "    if int(df1.iloc[idx]['총 공격받은 횟수'][:-1]) >= 100:\n",
        "      sum_roof += int(df1.iloc[idx]['방어횟수'][:-1])\n",
        "      sum_root += int(df1.iloc[idx]['총 공격받은 횟수'][:-1])\n",
        "      sum_rate += float(df1.iloc[idx]['방어율'][:-1]) * 0.01\n",
        "      cnt += 1\n",
        "\n",
        "  print(\"평균방어율 : \", (sum_roof / sum_root * 100))\n",
        "  print(\"평균방어횟수 : \", (sum_rate / cnt))\n",
        "\n",
        "  return (sum_roof / sum_root * 100), (sum_rate / cnt)"
      ],
      "metadata": {
        "id": "654b9_UukaZf"
      },
      "execution_count": null,
      "outputs": []
    },
    {
      "cell_type": "code",
      "source": [
        "def remove_duplication(df_mon_list, new_df):\n",
        "  relation_list = []\n",
        "  for info in df_mon_list['몬스터']:\n",
        "    temp_list_3 = []\n",
        "    temp_list_cnt = 3\n",
        "    for idx in range(len(new_df)):\n",
        "      temp_list_str = \"\"\n",
        "      for check in check_keys:\n",
        "        temp_str = re.sub('\\s+', '', new_df.iloc[idx][check])\n",
        "        if temp_str == info:\n",
        "          temp_list_str += ', '.join([new_df.iloc[idx]['몬스터1'], new_df.iloc[idx]['몬스터2'], new_df.iloc[idx]['몬스터3']\n",
        "                                    , str(new_df.iloc[idx]['등장횟수'])])\n",
        "          if len(temp_list_3) != temp_list_cnt:\n",
        "            temp_list_3.append(temp_list_str)\n",
        "          else:\n",
        "            break\n",
        "\n",
        "          break\n",
        "    relation_list.append(temp_list_3)\n",
        "  return relation_list"
      ],
      "metadata": {
        "id": "xzOok_-WTT3f"
      },
      "execution_count": null,
      "outputs": []
    },
    {
      "cell_type": "code",
      "source": [
        "def download_mon_list(target_df, mon_df, df_download_name, size):\n",
        "  cnt_list = []\n",
        "  temp_list_1 = []\n",
        "  temp_list_2 = []\n",
        "  total_ld_cnt = target_df['횟수'].sum()\n",
        "\n",
        "  for idx in range(len(target_df)):\n",
        "    temp_list_1.append(target_df.iloc[idx]['횟수'])\n",
        "    temp_list_2.append(target_df.iloc[idx]['몬스터'])\n",
        "\n",
        "    cnt_list.append(str(round(int(target_df.iloc[idx]['횟수'])/(total_ld_cnt) * 100, 2))+\"%\")\n",
        "\n",
        "  target_df['몬스터'] = [''.join(x.split()) for x in temp_list_2]\n",
        "  target_df['횟수'] = [str(x) + \"회\" for x in temp_list_1]\n",
        "  target_df['점유율'] = cnt_list\n",
        "  target_df['방덱'] = remove_duplication(target_df ,mon_df)\n",
        "\n",
        "  target_df.head(size).to_csv(df_download_name, index=False, encoding='CP949')\n",
        "  # files.download(df_download_name)"
      ],
      "metadata": {
        "id": "_R_hH9xNTRNg"
      },
      "execution_count": null,
      "outputs": []
    },
    {
      "cell_type": "code",
      "source": [
        "# download_mon_list(df_star4, df7, 'df_star4_mon_list.csv', 10)\n",
        "download_mon_list(df_star5, df8, 'df_star5_mon_list.csv', 10)\n",
        "download_mon_list(df_starld5, df9, 'df_star5_ldmon_list.csv', 10)"
      ],
      "metadata": {
        "id": "tx8wbK0sfHrQ"
      },
      "execution_count": null,
      "outputs": []
    },
    {
      "cell_type": "code",
      "source": [
        "total_count = 0\n",
        "for idx in range(len(df_star4)):\n",
        "  total_count += int(df_star4['횟수'].iloc[idx][:-1])\n",
        "\n",
        "print(total_count)"
      ],
      "metadata": {
        "colab": {
          "base_uri": "https://localhost:8080/"
        },
        "id": "5I1P5Zgz2vX3",
        "outputId": "7781ea9c-9c53-4f02-de4b-df6378e1ff47"
      },
      "execution_count": null,
      "outputs": [
        {
          "output_type": "stream",
          "name": "stdout",
          "text": [
            "60708\n"
          ]
        }
      ]
    },
    {
      "cell_type": "code",
      "source": [
        "get_average_rate(df5)"
      ],
      "metadata": {
        "colab": {
          "base_uri": "https://localhost:8080/"
        },
        "id": "XLIymp39Xns6",
        "outputId": "5b9b3a55-54f0-4cf9-8f0c-45e32e74a977"
      },
      "execution_count": null,
      "outputs": [
        {
          "output_type": "stream",
          "name": "stdout",
          "text": [
            "평균방어율 :  13.302013422818792\n",
            "평균방어횟수 :  0.16151250000000003\n"
          ]
        },
        {
          "output_type": "execute_result",
          "data": {
            "text/plain": [
              "(13.302013422818792, 0.16151250000000003)"
            ]
          },
          "metadata": {},
          "execution_count": 72
        }
      ]
    },
    {
      "cell_type": "code",
      "source": [
        "total_count = 0\n",
        "for idx in range(len(df9)):\n",
        "  total_count += int(df9['등장횟수'].iloc[idx][:-1])\n",
        "\n",
        "print(total_count)"
      ],
      "metadata": {
        "colab": {
          "base_uri": "https://localhost:8080/"
        },
        "id": "e4EuUZE8_Fff",
        "outputId": "7710b423-b6c5-49b8-b26e-27a27d2fdb4c"
      },
      "execution_count": null,
      "outputs": [
        {
          "output_type": "stream",
          "name": "stdout",
          "text": [
            "26059\n"
          ]
        }
      ]
    },
    {
      "cell_type": "code",
      "source": [
        "#13318 26059\n",
        "#10364 29254"
      ],
      "metadata": {
        "colab": {
          "base_uri": "https://localhost:8080/",
          "height": 424
        },
        "id": "bb_3vm_D_Afv",
        "outputId": "20fe0338-a90b-4e88-dea3-f0e577811736"
      },
      "execution_count": null,
      "outputs": [
        {
          "output_type": "execute_result",
          "data": {
            "text/plain": [
              "       몬스터1    몬스터2     몬스터3   등장횟수\n",
              "0     불피에레트   불이프리트  풍비스트라이더  1505회\n",
              "1     물하늘무희   불이프리트    풍머메이드   690회\n",
              "2     불스나이퍼   빛늑대인간     풍광전사   342회\n",
              "3    물스트라이커   불이프리트  풍비스트라이더   324회\n",
              "4     불피에레트   물이프리트    풍토템술사   311회\n",
              "..      ...     ...      ...    ...\n",
              "636    물오라클  불데빌메이든      풍화백     1회\n",
              "637    풍마도사    물오라클     불팔라딘     1회\n",
              "638   물이프리트  불그림자술사   풍그림자술사     1회\n",
              "639    불팔라딘   물이프리트    풍아크엔젤     1회\n",
              "640   불스나이퍼   빛머메이드  풍비스트라이더     1회\n",
              "\n",
              "[641 rows x 4 columns]"
            ],
            "text/html": [
              "\n",
              "  <div id=\"df-486c0fa0-4cc2-4f7a-951a-0847b56dfd45\" class=\"colab-df-container\">\n",
              "    <div>\n",
              "<style scoped>\n",
              "    .dataframe tbody tr th:only-of-type {\n",
              "        vertical-align: middle;\n",
              "    }\n",
              "\n",
              "    .dataframe tbody tr th {\n",
              "        vertical-align: top;\n",
              "    }\n",
              "\n",
              "    .dataframe thead th {\n",
              "        text-align: right;\n",
              "    }\n",
              "</style>\n",
              "<table border=\"1\" class=\"dataframe\">\n",
              "  <thead>\n",
              "    <tr style=\"text-align: right;\">\n",
              "      <th></th>\n",
              "      <th>몬스터1</th>\n",
              "      <th>몬스터2</th>\n",
              "      <th>몬스터3</th>\n",
              "      <th>등장횟수</th>\n",
              "    </tr>\n",
              "  </thead>\n",
              "  <tbody>\n",
              "    <tr>\n",
              "      <th>0</th>\n",
              "      <td>불피에레트</td>\n",
              "      <td>불이프리트</td>\n",
              "      <td>풍비스트라이더</td>\n",
              "      <td>1505회</td>\n",
              "    </tr>\n",
              "    <tr>\n",
              "      <th>1</th>\n",
              "      <td>물하늘무희</td>\n",
              "      <td>불이프리트</td>\n",
              "      <td>풍머메이드</td>\n",
              "      <td>690회</td>\n",
              "    </tr>\n",
              "    <tr>\n",
              "      <th>2</th>\n",
              "      <td>불스나이퍼</td>\n",
              "      <td>빛늑대인간</td>\n",
              "      <td>풍광전사</td>\n",
              "      <td>342회</td>\n",
              "    </tr>\n",
              "    <tr>\n",
              "      <th>3</th>\n",
              "      <td>물스트라이커</td>\n",
              "      <td>불이프리트</td>\n",
              "      <td>풍비스트라이더</td>\n",
              "      <td>324회</td>\n",
              "    </tr>\n",
              "    <tr>\n",
              "      <th>4</th>\n",
              "      <td>불피에레트</td>\n",
              "      <td>물이프리트</td>\n",
              "      <td>풍토템술사</td>\n",
              "      <td>311회</td>\n",
              "    </tr>\n",
              "    <tr>\n",
              "      <th>...</th>\n",
              "      <td>...</td>\n",
              "      <td>...</td>\n",
              "      <td>...</td>\n",
              "      <td>...</td>\n",
              "    </tr>\n",
              "    <tr>\n",
              "      <th>636</th>\n",
              "      <td>물오라클</td>\n",
              "      <td>불데빌메이든</td>\n",
              "      <td>풍화백</td>\n",
              "      <td>1회</td>\n",
              "    </tr>\n",
              "    <tr>\n",
              "      <th>637</th>\n",
              "      <td>풍마도사</td>\n",
              "      <td>물오라클</td>\n",
              "      <td>불팔라딘</td>\n",
              "      <td>1회</td>\n",
              "    </tr>\n",
              "    <tr>\n",
              "      <th>638</th>\n",
              "      <td>물이프리트</td>\n",
              "      <td>불그림자술사</td>\n",
              "      <td>풍그림자술사</td>\n",
              "      <td>1회</td>\n",
              "    </tr>\n",
              "    <tr>\n",
              "      <th>639</th>\n",
              "      <td>불팔라딘</td>\n",
              "      <td>물이프리트</td>\n",
              "      <td>풍아크엔젤</td>\n",
              "      <td>1회</td>\n",
              "    </tr>\n",
              "    <tr>\n",
              "      <th>640</th>\n",
              "      <td>불스나이퍼</td>\n",
              "      <td>빛머메이드</td>\n",
              "      <td>풍비스트라이더</td>\n",
              "      <td>1회</td>\n",
              "    </tr>\n",
              "  </tbody>\n",
              "</table>\n",
              "<p>641 rows × 4 columns</p>\n",
              "</div>\n",
              "    <div class=\"colab-df-buttons\">\n",
              "\n",
              "  <div class=\"colab-df-container\">\n",
              "    <button class=\"colab-df-convert\" onclick=\"convertToInteractive('df-486c0fa0-4cc2-4f7a-951a-0847b56dfd45')\"\n",
              "            title=\"Convert this dataframe to an interactive table.\"\n",
              "            style=\"display:none;\">\n",
              "\n",
              "  <svg xmlns=\"http://www.w3.org/2000/svg\" height=\"24px\" viewBox=\"0 -960 960 960\">\n",
              "    <path d=\"M120-120v-720h720v720H120Zm60-500h600v-160H180v160Zm220 220h160v-160H400v160Zm0 220h160v-160H400v160ZM180-400h160v-160H180v160Zm440 0h160v-160H620v160ZM180-180h160v-160H180v160Zm440 0h160v-160H620v160Z\"/>\n",
              "  </svg>\n",
              "    </button>\n",
              "\n",
              "  <style>\n",
              "    .colab-df-container {\n",
              "      display:flex;\n",
              "      gap: 12px;\n",
              "    }\n",
              "\n",
              "    .colab-df-convert {\n",
              "      background-color: #E8F0FE;\n",
              "      border: none;\n",
              "      border-radius: 50%;\n",
              "      cursor: pointer;\n",
              "      display: none;\n",
              "      fill: #1967D2;\n",
              "      height: 32px;\n",
              "      padding: 0 0 0 0;\n",
              "      width: 32px;\n",
              "    }\n",
              "\n",
              "    .colab-df-convert:hover {\n",
              "      background-color: #E2EBFA;\n",
              "      box-shadow: 0px 1px 2px rgba(60, 64, 67, 0.3), 0px 1px 3px 1px rgba(60, 64, 67, 0.15);\n",
              "      fill: #174EA6;\n",
              "    }\n",
              "\n",
              "    .colab-df-buttons div {\n",
              "      margin-bottom: 4px;\n",
              "    }\n",
              "\n",
              "    [theme=dark] .colab-df-convert {\n",
              "      background-color: #3B4455;\n",
              "      fill: #D2E3FC;\n",
              "    }\n",
              "\n",
              "    [theme=dark] .colab-df-convert:hover {\n",
              "      background-color: #434B5C;\n",
              "      box-shadow: 0px 1px 3px 1px rgba(0, 0, 0, 0.15);\n",
              "      filter: drop-shadow(0px 1px 2px rgba(0, 0, 0, 0.3));\n",
              "      fill: #FFFFFF;\n",
              "    }\n",
              "  </style>\n",
              "\n",
              "    <script>\n",
              "      const buttonEl =\n",
              "        document.querySelector('#df-486c0fa0-4cc2-4f7a-951a-0847b56dfd45 button.colab-df-convert');\n",
              "      buttonEl.style.display =\n",
              "        google.colab.kernel.accessAllowed ? 'block' : 'none';\n",
              "\n",
              "      async function convertToInteractive(key) {\n",
              "        const element = document.querySelector('#df-486c0fa0-4cc2-4f7a-951a-0847b56dfd45');\n",
              "        const dataTable =\n",
              "          await google.colab.kernel.invokeFunction('convertToInteractive',\n",
              "                                                    [key], {});\n",
              "        if (!dataTable) return;\n",
              "\n",
              "        const docLinkHtml = 'Like what you see? Visit the ' +\n",
              "          '<a target=\"_blank\" href=https://colab.research.google.com/notebooks/data_table.ipynb>data table notebook</a>'\n",
              "          + ' to learn more about interactive tables.';\n",
              "        element.innerHTML = '';\n",
              "        dataTable['output_type'] = 'display_data';\n",
              "        await google.colab.output.renderOutput(dataTable, element);\n",
              "        const docLink = document.createElement('div');\n",
              "        docLink.innerHTML = docLinkHtml;\n",
              "        element.appendChild(docLink);\n",
              "      }\n",
              "    </script>\n",
              "  </div>\n",
              "\n",
              "\n",
              "<div id=\"df-d6f4097a-177e-44d2-bf57-ea2a19719a84\">\n",
              "  <button class=\"colab-df-quickchart\" onclick=\"quickchart('df-d6f4097a-177e-44d2-bf57-ea2a19719a84')\"\n",
              "            title=\"Suggest charts\"\n",
              "            style=\"display:none;\">\n",
              "\n",
              "<svg xmlns=\"http://www.w3.org/2000/svg\" height=\"24px\"viewBox=\"0 0 24 24\"\n",
              "     width=\"24px\">\n",
              "    <g>\n",
              "        <path d=\"M19 3H5c-1.1 0-2 .9-2 2v14c0 1.1.9 2 2 2h14c1.1 0 2-.9 2-2V5c0-1.1-.9-2-2-2zM9 17H7v-7h2v7zm4 0h-2V7h2v10zm4 0h-2v-4h2v4z\"/>\n",
              "    </g>\n",
              "</svg>\n",
              "  </button>\n",
              "\n",
              "<style>\n",
              "  .colab-df-quickchart {\n",
              "      --bg-color: #E8F0FE;\n",
              "      --fill-color: #1967D2;\n",
              "      --hover-bg-color: #E2EBFA;\n",
              "      --hover-fill-color: #174EA6;\n",
              "      --disabled-fill-color: #AAA;\n",
              "      --disabled-bg-color: #DDD;\n",
              "  }\n",
              "\n",
              "  [theme=dark] .colab-df-quickchart {\n",
              "      --bg-color: #3B4455;\n",
              "      --fill-color: #D2E3FC;\n",
              "      --hover-bg-color: #434B5C;\n",
              "      --hover-fill-color: #FFFFFF;\n",
              "      --disabled-bg-color: #3B4455;\n",
              "      --disabled-fill-color: #666;\n",
              "  }\n",
              "\n",
              "  .colab-df-quickchart {\n",
              "    background-color: var(--bg-color);\n",
              "    border: none;\n",
              "    border-radius: 50%;\n",
              "    cursor: pointer;\n",
              "    display: none;\n",
              "    fill: var(--fill-color);\n",
              "    height: 32px;\n",
              "    padding: 0;\n",
              "    width: 32px;\n",
              "  }\n",
              "\n",
              "  .colab-df-quickchart:hover {\n",
              "    background-color: var(--hover-bg-color);\n",
              "    box-shadow: 0 1px 2px rgba(60, 64, 67, 0.3), 0 1px 3px 1px rgba(60, 64, 67, 0.15);\n",
              "    fill: var(--button-hover-fill-color);\n",
              "  }\n",
              "\n",
              "  .colab-df-quickchart-complete:disabled,\n",
              "  .colab-df-quickchart-complete:disabled:hover {\n",
              "    background-color: var(--disabled-bg-color);\n",
              "    fill: var(--disabled-fill-color);\n",
              "    box-shadow: none;\n",
              "  }\n",
              "\n",
              "  .colab-df-spinner {\n",
              "    border: 2px solid var(--fill-color);\n",
              "    border-color: transparent;\n",
              "    border-bottom-color: var(--fill-color);\n",
              "    animation:\n",
              "      spin 1s steps(1) infinite;\n",
              "  }\n",
              "\n",
              "  @keyframes spin {\n",
              "    0% {\n",
              "      border-color: transparent;\n",
              "      border-bottom-color: var(--fill-color);\n",
              "      border-left-color: var(--fill-color);\n",
              "    }\n",
              "    20% {\n",
              "      border-color: transparent;\n",
              "      border-left-color: var(--fill-color);\n",
              "      border-top-color: var(--fill-color);\n",
              "    }\n",
              "    30% {\n",
              "      border-color: transparent;\n",
              "      border-left-color: var(--fill-color);\n",
              "      border-top-color: var(--fill-color);\n",
              "      border-right-color: var(--fill-color);\n",
              "    }\n",
              "    40% {\n",
              "      border-color: transparent;\n",
              "      border-right-color: var(--fill-color);\n",
              "      border-top-color: var(--fill-color);\n",
              "    }\n",
              "    60% {\n",
              "      border-color: transparent;\n",
              "      border-right-color: var(--fill-color);\n",
              "    }\n",
              "    80% {\n",
              "      border-color: transparent;\n",
              "      border-right-color: var(--fill-color);\n",
              "      border-bottom-color: var(--fill-color);\n",
              "    }\n",
              "    90% {\n",
              "      border-color: transparent;\n",
              "      border-bottom-color: var(--fill-color);\n",
              "    }\n",
              "  }\n",
              "</style>\n",
              "\n",
              "  <script>\n",
              "    async function quickchart(key) {\n",
              "      const quickchartButtonEl =\n",
              "        document.querySelector('#' + key + ' button');\n",
              "      quickchartButtonEl.disabled = true;  // To prevent multiple clicks.\n",
              "      quickchartButtonEl.classList.add('colab-df-spinner');\n",
              "      try {\n",
              "        const charts = await google.colab.kernel.invokeFunction(\n",
              "            'suggestCharts', [key], {});\n",
              "      } catch (error) {\n",
              "        console.error('Error during call to suggestCharts:', error);\n",
              "      }\n",
              "      quickchartButtonEl.classList.remove('colab-df-spinner');\n",
              "      quickchartButtonEl.classList.add('colab-df-quickchart-complete');\n",
              "    }\n",
              "    (() => {\n",
              "      let quickchartButtonEl =\n",
              "        document.querySelector('#df-d6f4097a-177e-44d2-bf57-ea2a19719a84 button');\n",
              "      quickchartButtonEl.style.display =\n",
              "        google.colab.kernel.accessAllowed ? 'block' : 'none';\n",
              "    })();\n",
              "  </script>\n",
              "</div>\n",
              "    </div>\n",
              "  </div>\n"
            ]
          },
          "metadata": {},
          "execution_count": 84
        }
      ]
    }
  ]
}