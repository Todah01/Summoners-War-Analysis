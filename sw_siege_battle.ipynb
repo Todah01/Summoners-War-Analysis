{
  "nbformat": 4,
  "nbformat_minor": 0,
  "metadata": {
    "colab": {
      "provenance": [],
      "authorship_tag": "ABX9TyPoQY0vG3BLoB5sU/Zk9PBz",
      "include_colab_link": true
    },
    "kernelspec": {
      "name": "python3",
      "display_name": "Python 3"
    },
    "language_info": {
      "name": "python"
    }
  },
  "cells": [
    {
      "cell_type": "markdown",
      "metadata": {
        "id": "view-in-github",
        "colab_type": "text"
      },
      "source": [
        "<a href=\"https://colab.research.google.com/github/Todah01/Summoners-War-Analysis/blob/main/sw_siege_battle.ipynb\" target=\"_parent\"><img src=\"https://colab.research.google.com/assets/colab-badge.svg\" alt=\"Open In Colab\"/></a>"
      ]
    },
    {
      "cell_type": "code",
      "metadata": {
        "id": "1XpTd7Us0ARd",
        "colab": {
          "base_uri": "https://localhost:8080/"
        },
        "outputId": "4c877927-5812-4dec-b30e-d8b40b436ed2"
      },
      "source": [
        "!sudo apt-get install -y fonts-nanum\n",
        "!sudo fc-cache -fv\n",
        "!rm ~/.cache/matplotlib -rf"
      ],
      "execution_count": null,
      "outputs": [
        {
          "output_type": "stream",
          "name": "stdout",
          "text": [
            "Reading package lists... Done\n",
            "Building dependency tree       \n",
            "Reading state information... Done\n",
            "The following NEW packages will be installed:\n",
            "  fonts-nanum\n",
            "0 upgraded, 1 newly installed, 0 to remove and 15 not upgraded.\n",
            "Need to get 9,599 kB of archives.\n",
            "After this operation, 29.6 MB of additional disk space will be used.\n",
            "Get:1 http://archive.ubuntu.com/ubuntu focal/universe amd64 fonts-nanum all 20180306-3 [9,599 kB]\n",
            "Fetched 9,599 kB in 1s (18.7 MB/s)\n",
            "debconf: unable to initialize frontend: Dialog\n",
            "debconf: (No usable dialog-like program is installed, so the dialog based frontend cannot be used. at /usr/share/perl5/Debconf/FrontEnd/Dialog.pm line 76, <> line 1.)\n",
            "debconf: falling back to frontend: Readline\n",
            "debconf: unable to initialize frontend: Readline\n",
            "debconf: (This frontend requires a controlling tty.)\n",
            "debconf: falling back to frontend: Teletype\n",
            "dpkg-preconfigure: unable to re-open stdin: \n",
            "Selecting previously unselected package fonts-nanum.\n",
            "(Reading database ... 123105 files and directories currently installed.)\n",
            "Preparing to unpack .../fonts-nanum_20180306-3_all.deb ...\n",
            "Unpacking fonts-nanum (20180306-3) ...\n",
            "Setting up fonts-nanum (20180306-3) ...\n",
            "Processing triggers for fontconfig (2.13.1-2ubuntu3) ...\n",
            "/usr/share/fonts: caching, new cache contents: 0 fonts, 1 dirs\n",
            "/usr/share/fonts/truetype: caching, new cache contents: 0 fonts, 3 dirs\n",
            "/usr/share/fonts/truetype/humor-sans: caching, new cache contents: 1 fonts, 0 dirs\n",
            "/usr/share/fonts/truetype/liberation: caching, new cache contents: 16 fonts, 0 dirs\n",
            "/usr/share/fonts/truetype/nanum: caching, new cache contents: 10 fonts, 0 dirs\n",
            "/usr/local/share/fonts: caching, new cache contents: 0 fonts, 0 dirs\n",
            "/root/.local/share/fonts: skipping, no such directory\n",
            "/root/.fonts: skipping, no such directory\n",
            "/usr/share/fonts/truetype: skipping, looped directory detected\n",
            "/usr/share/fonts/truetype/humor-sans: skipping, looped directory detected\n",
            "/usr/share/fonts/truetype/liberation: skipping, looped directory detected\n",
            "/usr/share/fonts/truetype/nanum: skipping, looped directory detected\n",
            "/var/cache/fontconfig: cleaning cache directory\n",
            "/root/.cache/fontconfig: not cleaning non-existent cache directory\n",
            "/root/.fontconfig: not cleaning non-existent cache directory\n",
            "fc-cache: succeeded\n"
          ]
        }
      ]
    },
    {
      "cell_type": "code",
      "metadata": {
        "id": "ZzZKWHjNSoqD"
      },
      "source": [
        "import pandas as pd\n",
        "import operator\n",
        "import os\n",
        "import matplotlib.pyplot as plt\n",
        "import numpy as np\n",
        "import matplotlib.ticker as ticker\n",
        "import matplotlib.patches as patches"
      ],
      "execution_count": null,
      "outputs": []
    },
    {
      "cell_type": "code",
      "source": [
        "plt.rc('font', family='NanumBarunGothic', size = 15)\n",
        "plt.rcParams[\"figure.figsize\"] = (14,10)"
      ],
      "metadata": {
        "id": "lJ5F4vCZSkw5"
      },
      "execution_count": null,
      "outputs": []
    },
    {
      "cell_type": "markdown",
      "source": [
        "#Data Setting"
      ],
      "metadata": {
        "id": "d_DRhuyWoJoR"
      }
    },
    {
      "cell_type": "code",
      "source": [
        "csv_base_name_list = [\"star4_base_mon.csv\", \"star5_base_mon.csv\", \"star4_base_combi.csv\", \"star5_base_combi.csv\"]\n",
        "data = pd.read_csv(csv_name + \".csv\")\n",
        "\n",
        "siege = []\n",
        "for i in range(len(data)) :\n",
        "  siege.append(data.iloc[i]['리더'].split())"
      ],
      "metadata": {
        "id": "IXF38DbPDaR_"
      },
      "execution_count": null,
      "outputs": []
    },
    {
      "cell_type": "code",
      "source": [
        "# siege.sort(key = lambda x: int(x[3]), reverse = True)\n",
        "\n",
        "# siege_drop_list = []\n",
        "\n",
        "# for i in range(len(siege)):\n",
        "#   cur_check_list = siege[i]\n",
        "#   cur_cnt = int(cur_check_list[-1])\n",
        "\n",
        "#   for j in range(len(siege)):\n",
        "#     comp_list = siege[j]\n",
        "#     comp_cnt = 0\n",
        "#     if i not in siege_drop_list and j not in siege_drop_list and i != j:\n",
        "#       for idx in range(len(cur_check_list) - 1):\n",
        "#         if cur_check_list[idx] in comp_list:\n",
        "#           comp_cnt += 1\n",
        "#       if comp_cnt == 3:\n",
        "#         cur_cnt += int(comp_list[-1])\n",
        "#         siege_drop_list.append(j)\n",
        "\n",
        "#   cur_check_list[-1] = str(cur_cnt)\n",
        "\n",
        "# for idx in siege_drop_list :\n",
        "#   siege[idx] = []\n",
        "\n",
        "# while [] in siege:\n",
        "#   siege.remove([])"
      ],
      "metadata": {
        "id": "zmsgnOZUJbFE"
      },
      "execution_count": null,
      "outputs": []
    },
    {
      "cell_type": "code",
      "metadata": {
        "id": "1cZyQ-tvaNN_"
      },
      "source": [
        "siege_dic = {}\n",
        "for i in range(len(siege)) :\n",
        "  for j in range(3) :\n",
        "    if siege[i][j] not in siege_dic.keys() :\n",
        "      siege_dic.update({siege[i][j]:int(siege[i][3])})\n",
        "    else :\n",
        "      siege_dic[siege[i][j]] += int(siege[i][3])\n",
        "\n",
        "siege_data = pd.DataFrame(list(siege_dic.items()), columns = ['이름','사용횟수'])\n",
        "siege_data = siege_data.sort_values('사용횟수',ascending=False)"
      ],
      "execution_count": null,
      "outputs": []
    },
    {
      "cell_type": "markdown",
      "source": [
        "# WFW"
      ],
      "metadata": {
        "id": "NoRZN-Yd7GM1"
      }
    },
    {
      "cell_type": "code",
      "metadata": {
        "id": "2c70TrBs71Fn"
      },
      "source": [
        "color_list = []\n",
        "for i in range(min(len(siege_data), 10)) :\n",
        "  if '불' in siege_data['이름'].iloc[i] :\n",
        "    color_list.append('salmon')\n",
        "  elif '물' in siege_data['이름'].iloc[i] :\n",
        "    color_list.append('dodgerblue')\n",
        "  elif '풍' in siege_data['이름'].iloc[i] :\n",
        "    color_list.append('khaki')\n",
        "  elif '빛' in siege_data['이름'].iloc[i] :\n",
        "    color_list.append('whitesmoke')\n",
        "  elif '암' in siege_data['이름'].iloc[i] :\n",
        "    color_list.append('dimgrey')\n",
        "\n",
        "attribute = {'물': 0, '불': 0, '빛': 0, '암': 0, '풍': 0}\n",
        "for i in range(len(siege_data)) :\n",
        "  if '불' in siege_data['이름'].iloc[i] :\n",
        "    attribute['불'] += siege_data['사용횟수'].iloc[i]\n",
        "  elif '물' in siege_data['이름'].iloc[i] :\n",
        "    attribute['물'] += siege_data['사용횟수'].iloc[i]\n",
        "  elif '풍' in siege_data['이름'].iloc[i] :\n",
        "    attribute['풍'] += siege_data['사용횟수'].iloc[i]\n",
        "  elif '빛' in siege_data['이름'].iloc[i] :\n",
        "    attribute['빛'] += siege_data['사용횟수'].iloc[i]\n",
        "  elif '암' in siege_data['이름'].iloc[i] :\n",
        "    attribute['암'] += siege_data['사용횟수'].iloc[i]\n",
        "\n",
        "attribute_data = pd.DataFrame(list(attribute.items()), columns = ['속성','사용횟수'])\n",
        "attribute_data = attribute_data.sort_values('사용횟수',ascending=False)\n",
        "\n",
        "attribute_color = []\n",
        "for i in range(5) :\n",
        "  if attribute_data.iloc[i][0] == '물' :\n",
        "    attribute_color.append('dodgerblue')\n",
        "  elif attribute_data.iloc[i][0] == '불' :\n",
        "    attribute_color.append('salmon')\n",
        "  elif attribute_data.iloc[i][0] == '풍' :\n",
        "    attribute_color.append('khaki')\n",
        "  elif attribute_data.iloc[i][0] == '빛' :\n",
        "    attribute_color.append('whitesmoke')\n",
        "  elif attribute_data.iloc[i][0] == '암' :\n",
        "    attribute_color.append('dimgrey')"
      ],
      "execution_count": null,
      "outputs": []
    },
    {
      "cell_type": "code",
      "metadata": {
        "id": "il4CZsXoxHgs"
      },
      "source": [
        "#plt.pie(attribute_data['사용횟수'], labels=attribute_data['속성'], autopct='%0.1f%%',colors=attribute_color)"
      ],
      "execution_count": null,
      "outputs": []
    },
    {
      "cell_type": "code",
      "source": [
        "wfw_len = 5\n",
        "wfw_locator = 10\n",
        "\n",
        "plt.bar(siege_data['이름'].head(wfw_len), siege_data['사용횟수'].head(wfw_len), color=color_list)\n",
        "plt.ylim(0, 60)\n",
        "plt.show()"
      ],
      "metadata": {
        "colab": {
          "base_uri": "https://localhost:8080/",
          "height": 603
        },
        "id": "f71JiKKU4Gze",
        "outputId": "dff047dd-8d61-489b-a66f-1db387049ed7"
      },
      "execution_count": null,
      "outputs": [
        {
          "output_type": "display_data",
          "data": {
            "text/plain": [
              "<Figure size 1008x720 with 1 Axes>"
            ],
            "image/png": "[encoded data removed]"
          },
          "metadata": {
            "needs_background": "light"
          }
        }
      ]
    },
    {
      "cell_type": "code",
      "source": [
        "group_data_list = []\n",
        "for name in siege_data['이름'].head(wfw_len):\n",
        "  temp_index = []\n",
        "  for i in range(len(siege)):\n",
        "    if name in siege[i]:\n",
        "      temp_index.append(i)\n",
        "\n",
        "  temp_group_list = []\n",
        "  for i in range(len(siege)):\n",
        "    if i in temp_index:\n",
        "      temp_group_list.append(siege[i])\n",
        "  group_data_list.append(temp_group_list)\n",
        "\n",
        "siege_dic_df_list = []\n",
        "for data_list in group_data_list:\n",
        "  siege_dic_most = {}\n",
        "  for i in range(len(data_list)) :\n",
        "    for j in range(3) :\n",
        "      if data_list[i][j] not in siege_dic_most.keys() :\n",
        "        siege_dic_most.update({data_list[i][j]:int(data_list[i][3])})\n",
        "      else :\n",
        "        siege_dic_most[data_list[i][j]] += int(data_list[i][3])\n",
        "\n",
        "  siege_most_data = pd.DataFrame(list(siege_dic_most.items()), columns = ['이름','사용횟수'])\n",
        "  siege_most_data = siege_most_data.sort_values('사용횟수',ascending = False)\n",
        "  siege_dic_df_list.append(siege_most_data.iloc[1:4])\n",
        "\n",
        "siege_data_most_list = []\n",
        "\n",
        "for df in siege_dic_df_list:\n",
        "  # temp_list = []\n",
        "  temp_str = \"\"\n",
        "  for i in range(min(len(df),3)):\n",
        "    # temp_list.append(df['이름'].iloc[i])\n",
        "    # temp_list.append(df['사용횟수'].iloc[i])\n",
        "    temp_str += df['이름'].iloc[i]\n",
        "    temp_str += \" : \"\n",
        "    temp_str += str(df['사용횟수'].iloc[i])\n",
        "    temp_str += \"개\\n\"\n",
        "  siege_data_most_list.append(temp_str)\n",
        "\n",
        "siege.sort(key=lambda x:int(x[3]))\n",
        "\n",
        "siege_change_by_name = []\n",
        "\n",
        "for i in range(len(siege)):\n",
        "  siege_change_by_name.append([' '.join(siege[i][:-1]), int(siege[i][-1])])\n",
        "\n",
        "group_data = pd.DataFrame(siege_change_by_name, columns = [\"defenses\", \"사용횟수\"])\n",
        "\n",
        "siege_data_df_list = []\n",
        "for name in siege_data['이름'].head(wfw_len):\n",
        "  temp_index = []\n",
        "  for i in range(len(group_data)):\n",
        "    if name not in group_data['defenses'].iloc[i]:\n",
        "      temp_index.append(i)\n",
        "  temp_group_data = group_data.drop([group_data.index[i] for i in temp_index])\n",
        "  siege_data_df_list.append(temp_group_data)\n",
        "\n",
        "siege_data_defenses_list = []\n",
        "for i in range(len(siege_data_df_list)):\n",
        "  temp_str = \"\"\n",
        "  for defense, number in zip(siege_data_df_list[i]['defenses'].tail(5)[::-1], siege_data_df_list[i]['사용횟수'].tail(5)[::-1]):\n",
        "    temp_str += defense\n",
        "    temp_str += \" : \"\n",
        "    temp_str += str(number)\n",
        "    temp_str += \"개\\n\"\n",
        "  siege_data_defenses_list.append(temp_str)\n",
        "\n",
        "siege_data_summary_df = siege_data.head(wfw_len)\n",
        "\n",
        "siege_data_std_list = []\n",
        "siege_data_sum = siege_data['사용횟수'].sum()\n",
        "for i in range(wfw_len):\n",
        "  siege_data_std_list.append(str(round((siege_data['사용횟수'].iloc[i]/siege_data_sum) * 100, 2)) + \"%\")\n",
        "\n",
        "siege_data_summary_df = siege_data_summary_df.assign(점유율 = siege_data_std_list)\n",
        "# siege_data_summary_df = siege_data_summary_df.assign(Used_With = siege_data_most_list)\n",
        "siege_data_summary_df = siege_data_summary_df.assign(Defenses = siege_data_defenses_list)\n",
        "siege_data_summary_df.to_csv(csv_name + \"_Summary.txt\", sep = \"\\t\", index = False)"
      ],
      "metadata": {
        "id": "VJn-nb6x7vvp"
      },
      "execution_count": null,
      "outputs": []
    },
    {
      "cell_type": "code",
      "source": [
        "group_data_df_list = []\n",
        "for name in siege_data['이름'].head(wfw_len):\n",
        "  temp_index = []\n",
        "  for i in range(len(group_data)):\n",
        "    if name not in group_data['defenses'].iloc[i]:\n",
        "      temp_index.append(i)\n",
        "  temp_group_data = group_data.drop([group_data.index[i] for i in temp_index])\n",
        "  group_data_df_list.append(temp_group_data)\n",
        "\n",
        "for i in range(len(group_data_df_list)):\n",
        "  # set color\n",
        "  group_data_color = color_list[i]\n",
        "\n",
        "  # graph size\n",
        "  fig_height_unit = 10 / 5;\n",
        "  plt.figure(figsize=(14, min(6, fig_height_unit * len(group_data_df_list[i]))))\n",
        "\n",
        "  group_data_top_five_name = group_data_df_list[i]['defenses'].tail(5)\n",
        "  group_data_top_five_cnt = group_data_df_list[i]['사용횟수'].tail(5)\n",
        "\n",
        "  # instantiate graph\n",
        "  plt.barh(group_data_top_five_name, group_data_top_five_cnt, color = group_data_color)\n",
        "\n",
        "  # calculate rate of monster\n",
        "  group_data_percent = []\n",
        "  for cnt in group_data_top_five_cnt:\n",
        "    group_data_percent.append(str(round(round(cnt/group_data['사용횟수'].sum(), 5) * 100, 5)) + \"%\")\n",
        "    # group_data_percent.append(str(cnt) + \"개\")\n",
        "\n",
        "  # set text on graph\n",
        "  for df_idx in range(min(len(group_data_df_list[i]), 5)):\n",
        "    plt_width = group_data_df_list[i]['사용횟수'].tail(5).iloc[df_idx]\n",
        "    plt.text(plt_width, group_data_top_five_name.iloc[df_idx], group_data_percent[df_idx], ha='center', va='center', size = 20)\n",
        "\n",
        "  # modify graph\n",
        "  group_ax = plt.axes()\n",
        "  group_data_locator = 1 if group_data_df_list[i]['사용횟수'].max() < 5 else 5 if group_data_df_list[i]['사용횟수'].max() < 10 else wfw_locator\n",
        "  group_ax.xaxis.set_major_locator(ticker.MultipleLocator(group_data_locator))\n",
        "  plt.xlim(0, group_data_df_list[i]['사용횟수'].max() + group_data_df_list[i]['사용횟수'].max()/10)\n",
        "  plt.gca().axes.xaxis.set_visible(False)\n",
        "  plt.yticks(size = 20)\n",
        "  plt.show()\n",
        "  # plt.savefig(str(i) + \"_\" + csv_name + \"_graph.png\")"
      ],
      "metadata": {
        "id": "nMdjxVeWmMZp"
      },
      "execution_count": null,
      "outputs": []
    },
    {
      "cell_type": "code",
      "source": [
        "siege_temp = sorted(siege, key=lambda x:int(x[3]), reverse = True)\n",
        "siege_change = []\n",
        "\n",
        "for i in range(len(siege_temp)) :\n",
        "  siege_temp[i].insert(3, ':')\n",
        "  siege_temp[i][-1] += '개'\n",
        "  siege_change.append(' '.join(siege_temp[i]))\n",
        "\n",
        "with open('sort_' + csv_name + '.txt','w',encoding='UTF-8') as f:\n",
        "    for name in siege_change:\n",
        "        f.write(name+'\\n')"
      ],
      "metadata": {
        "id": "5B4-2uPtOFL1"
      },
      "execution_count": null,
      "outputs": []
    },
    {
      "cell_type": "markdown",
      "source": [
        "# LD"
      ],
      "metadata": {
        "id": "_bIe-oFKnpHi"
      }
    },
    {
      "cell_type": "code",
      "metadata": {
        "id": "cTJbF8rWkhEM"
      },
      "source": [
        "siege_index = []\n",
        "for i in range(len(siege_data)) :\n",
        "  if '불' in siege_data['이름'].iloc[i] :\n",
        "    siege_index.append(i)\n",
        "  elif '물' in siege_data['이름'].iloc[i] :\n",
        "    siege_index.append(i)\n",
        "  elif '풍' in siege_data['이름'].iloc[i] :\n",
        "    siege_index.append(i)\n",
        "  elif '쿵푸' in siege_data['이름'].iloc[i]:\n",
        "    siege_index.append(i)\n",
        "  elif '빛요괴' in siege_data['이름'].iloc[i]:\n",
        "    siege_index.append(i)\n",
        "  elif '머메' in siege_data['이름'].iloc[i]:\n",
        "    siege_index.append(i)\n",
        "  elif '마검' in siege_data['이름'].iloc[i]:\n",
        "    siege_index.append(i)\n",
        "  elif '주사위' in siege_data['이름'].iloc[i]:\n",
        "    siege_index.append(i)\n",
        "\n",
        "siege_data_LD = siege_data.drop([siege_data.index[i] for i in siege_index])"
      ],
      "execution_count": null,
      "outputs": []
    },
    {
      "cell_type": "code",
      "source": [
        "siege_index_LD = []\n",
        "for i in range(len(siege_data)) :\n",
        "  if '쿵푸' in siege_data['이름'].iloc[i]:\n",
        "    continue\n",
        "  elif '빛요괴' in siege_data['이름'].iloc[i]:\n",
        "    continue\n",
        "  elif '머메' in siege_data['이름'].iloc[i]:\n",
        "    continue\n",
        "  elif '마검' in siege_data['이름'].iloc[i]:\n",
        "    continue\n",
        "  elif '주사위' in siege_data['이름'].iloc[i]:\n",
        "    continue\n",
        "  elif '빛' in siege_data['이름'].iloc[i] :\n",
        "    siege_index_LD.append(i)\n",
        "  elif '암' in siege_data['이름'].iloc[i] :\n",
        "    siege_index_LD.append(i)\n",
        "\n",
        "siege_data_WFW = siege_data.drop([siege_data.index[i] for i in siege_index_LD])"
      ],
      "metadata": {
        "id": "g8NShdrUhhSa"
      },
      "execution_count": null,
      "outputs": []
    },
    {
      "cell_type": "code",
      "source": [
        "color_list_WFW = []\n",
        "for i in range(10) :\n",
        "  if '물' in siege_data_WFW['이름'].iloc[i] :\n",
        "    color_list_WFW.append('dodgerblue')\n",
        "  elif '불' in siege_data_WFW['이름'].iloc[i] :\n",
        "    color_list_WFW.append('salmon')\n",
        "  elif '풍' in siege_data_WFW['이름'].iloc[i] :\n",
        "    color_list_WFW.append('khaki')\n",
        "  elif '빛' in siege_data_WFW['이름'].iloc[i] :\n",
        "    color_list_WFW.append('whitesmoke')\n",
        "  elif '암' in siege_data_WFW['이름'].iloc[i] :\n",
        "    color_list_WFW.append('dimgrey')\n",
        "\n",
        "color_list_LD = []\n",
        "for i in range(10) :\n",
        "  if '빛' in siege_data_LD['이름'].iloc[i] :\n",
        "    color_list_LD.append('whitesmoke')\n",
        "  elif '암' in siege_data_LD['이름'].iloc[i] :\n",
        "    color_list_LD.append('dimgrey')"
      ],
      "metadata": {
        "id": "uqM1d1LPhKbB"
      },
      "execution_count": null,
      "outputs": []
    },
    {
      "cell_type": "code",
      "metadata": {
        "colab": {
          "base_uri": "https://localhost:8080/",
          "height": 598
        },
        "id": "UZe6dB1Dynbd",
        "outputId": "f976bd08-4455-4fc6-8f42-4b834baf723f"
      },
      "source": [
        "ld_len = 5\n",
        "ld_locator = 10\n",
        "plt.bar(siege_data_LD['이름'].head(ld_len), siege_data_LD['사용횟수'].head(ld_len), color=color_list_LD)\n",
        "# ax=plt.axes()\n",
        "# ax.yaxis.set_major_locator(ticker.MultipleLocator(ld_locator))\n",
        "plt.show()"
      ],
      "execution_count": null,
      "outputs": [
        {
          "output_type": "display_data",
          "data": {
            "text/plain": [
              "<Figure size 1008x720 with 1 Axes>"
            ],
            "image/png": "[encoded data removed]"
          },
          "metadata": {
            "needs_background": "light"
          }
        }
      ]
    },
    {
      "cell_type": "code",
      "source": [
        "# wfw_len = 5\n",
        "# wfw_locator = 5\n",
        "# plt.bar(siege_data_WFW['이름'].head(wfw_len), siege_data_WFW['사용횟수'].head(wfw_len), color=color_list_WFW)\n",
        "# ax=plt.axes()\n",
        "# ax.yaxis.set_major_locator(ticker.MultipleLocator(wfw_locator))\n",
        "# plt.show()"
      ],
      "metadata": {
        "id": "mh5-qEFi4JdY"
      },
      "execution_count": null,
      "outputs": []
    },
    {
      "cell_type": "code",
      "source": [
        "group_data_list = []\n",
        "for name in siege_data_LD['이름'].head(ld_len):\n",
        "  temp_index = []\n",
        "  for i in range(len(siege)):\n",
        "    if name in siege[i]:\n",
        "      temp_index.append(i)\n",
        "\n",
        "  temp_group_list = []\n",
        "  for i in range(len(siege)):\n",
        "    if i in temp_index:\n",
        "      temp_group_list.append(siege[i])\n",
        "  group_data_list.append(temp_group_list)\n",
        "\n",
        "siege_dic_df_list = []\n",
        "for data_list in group_data_list:\n",
        "  siege_dic_ld_most = {}\n",
        "  for i in range(len(data_list)) :\n",
        "    for j in range(3) :\n",
        "      if data_list[i][j] not in siege_dic_ld_most.keys() :\n",
        "        siege_dic_ld_most.update({data_list[i][j]:int(data_list[i][3])})\n",
        "      else :\n",
        "        siege_dic_ld_most[data_list[i][j]] += int(data_list[i][3])\n",
        "\n",
        "  siege_ld_most_data = pd.DataFrame(list(siege_dic_ld_most.items()), columns = ['이름','사용횟수'])\n",
        "  siege_ld_most_data = siege_ld_most_data.sort_values('사용횟수',ascending = False)\n",
        "  siege_dic_df_list.append(siege_ld_most_data.iloc[1:4])\n",
        "\n",
        "siege_data_ld_most_list = []\n",
        "\n",
        "for df in siege_dic_df_list:\n",
        "  # temp_list = []\n",
        "  temp_str = \"\"\n",
        "  for i in range(min(len(df),3)):\n",
        "    # temp_list.append(df['이름'].iloc[i])\n",
        "    # temp_list.append(df['사용횟수'].iloc[i])\n",
        "    temp_str += df['이름'].iloc[i]\n",
        "    temp_str += \" : \"\n",
        "    temp_str += str(df['사용횟수'].iloc[i])\n",
        "    temp_str += \"개\\n\"\n",
        "  siege_data_ld_most_list.append(temp_str)\n",
        "\n",
        "siege.sort(key=lambda x:int(x[3]))\n",
        "\n",
        "siege_change_by_name = []\n",
        "\n",
        "for i in range(len(siege)):\n",
        "  siege_change_by_name.append([' '.join(siege[i][:-1]), int(siege[i][-1])])\n",
        "\n",
        "group_data = pd.DataFrame(siege_change_by_name, columns = [\"defenses\", \"사용횟수\"])\n",
        "\n",
        "siege_data_df_list = []\n",
        "for name in siege_data_LD['이름'].head(ld_len):\n",
        "  temp_index = []\n",
        "  for i in range(len(group_data)):\n",
        "    if name not in group_data['defenses'].iloc[i]:\n",
        "      temp_index.append(i)\n",
        "  temp_group_data = group_data.drop([group_data.index[i] for i in temp_index])\n",
        "  siege_data_df_list.append(temp_group_data)\n",
        "\n",
        "siege_data_defenses_list = []\n",
        "for i in range(len(siege_data_df_list)):\n",
        "  temp_str = \"\"\n",
        "  for defense, number in zip(siege_data_df_list[i]['defenses'].tail(5)[::-1], siege_data_df_list[i]['사용횟수'].tail(5)[::-1]):\n",
        "    temp_str += defense\n",
        "    temp_str += \" : \"\n",
        "    temp_str += str(number)\n",
        "    temp_str += \"개\\n\"\n",
        "  siege_data_defenses_list.append(temp_str)\n",
        "\n",
        "siege_data_summary_df = siege_data_LD.head(ld_len)\n",
        "\n",
        "siege_data_std_list = []\n",
        "siege_data_sum = siege_data_LD['사용횟수'].sum()\n",
        "for i in range(ld_len):\n",
        "  siege_data_std_list.append(str(round((siege_data_LD['사용횟수'].iloc[i]/siege_data_sum) * 100, 2)) + \"%\")\n",
        "\n",
        "siege_data_summary_df = siege_data_summary_df.assign(점유율 = siege_data_std_list)\n",
        "# siege_data_summary_df = siege_data_summary_df.assign(Used_With = siege_data_ld_most_list)\n",
        "siege_data_summary_df = siege_data_summary_df.assign(Defenses = siege_data_defenses_list)\n",
        "siege_data_summary_df.to_csv(csv_name + \"_Summary.txt\", sep = \"\\t\", index = False)"
      ],
      "metadata": {
        "id": "Iue1X0j6gYT4",
        "colab": {
          "base_uri": "https://localhost:8080/",
          "height": 248
        },
        "outputId": "d33fe0db-3960-4e05-d536-f6a3519afff6"
      },
      "execution_count": null,
      "outputs": [
        {
          "output_type": "error",
          "ename": "ValueError",
          "evalue": "ignored",
          "traceback": [
            "\u001b[0;31m---------------------------------------------------------------------------\u001b[0m",
            "\u001b[0;31mValueError\u001b[0m                                Traceback (most recent call last)",
            "\u001b[0;32m<ipython-input-191-693f2b5cc7c4>\u001b[0m in \u001b[0;36m<module>\u001b[0;34m\u001b[0m\n\u001b[1;32m     18\u001b[0m     \u001b[0;32mfor\u001b[0m \u001b[0mj\u001b[0m \u001b[0;32min\u001b[0m \u001b[0mrange\u001b[0m\u001b[0;34m(\u001b[0m\u001b[0;36m3\u001b[0m\u001b[0;34m)\u001b[0m \u001b[0;34m:\u001b[0m\u001b[0;34m\u001b[0m\u001b[0;34m\u001b[0m\u001b[0m\n\u001b[1;32m     19\u001b[0m       \u001b[0;32mif\u001b[0m \u001b[0mdata_list\u001b[0m\u001b[0;34m[\u001b[0m\u001b[0mi\u001b[0m\u001b[0;34m]\u001b[0m\u001b[0;34m[\u001b[0m\u001b[0mj\u001b[0m\u001b[0;34m]\u001b[0m \u001b[0;32mnot\u001b[0m \u001b[0;32min\u001b[0m \u001b[0msiege_dic_ld_most\u001b[0m\u001b[0;34m.\u001b[0m\u001b[0mkeys\u001b[0m\u001b[0;34m(\u001b[0m\u001b[0;34m)\u001b[0m \u001b[0;34m:\u001b[0m\u001b[0;34m\u001b[0m\u001b[0;34m\u001b[0m\u001b[0m\n\u001b[0;32m---> 20\u001b[0;31m         \u001b[0msiege_dic_ld_most\u001b[0m\u001b[0;34m.\u001b[0m\u001b[0mupdate\u001b[0m\u001b[0;34m(\u001b[0m\u001b[0;34m{\u001b[0m\u001b[0mdata_list\u001b[0m\u001b[0;34m[\u001b[0m\u001b[0mi\u001b[0m\u001b[0;34m]\u001b[0m\u001b[0;34m[\u001b[0m\u001b[0mj\u001b[0m\u001b[0;34m]\u001b[0m\u001b[0;34m:\u001b[0m\u001b[0mint\u001b[0m\u001b[0;34m(\u001b[0m\u001b[0mdata_list\u001b[0m\u001b[0;34m[\u001b[0m\u001b[0mi\u001b[0m\u001b[0;34m]\u001b[0m\u001b[0;34m[\u001b[0m\u001b[0;36m3\u001b[0m\u001b[0;34m]\u001b[0m\u001b[0;34m)\u001b[0m\u001b[0;34m}\u001b[0m\u001b[0;34m)\u001b[0m\u001b[0;34m\u001b[0m\u001b[0;34m\u001b[0m\u001b[0m\n\u001b[0m\u001b[1;32m     21\u001b[0m       \u001b[0;32melse\u001b[0m \u001b[0;34m:\u001b[0m\u001b[0;34m\u001b[0m\u001b[0;34m\u001b[0m\u001b[0m\n\u001b[1;32m     22\u001b[0m         \u001b[0msiege_dic_ld_most\u001b[0m\u001b[0;34m[\u001b[0m\u001b[0mdata_list\u001b[0m\u001b[0;34m[\u001b[0m\u001b[0mi\u001b[0m\u001b[0;34m]\u001b[0m\u001b[0;34m[\u001b[0m\u001b[0mj\u001b[0m\u001b[0;34m]\u001b[0m\u001b[0;34m]\u001b[0m \u001b[0;34m+=\u001b[0m \u001b[0mint\u001b[0m\u001b[0;34m(\u001b[0m\u001b[0mdata_list\u001b[0m\u001b[0;34m[\u001b[0m\u001b[0mi\u001b[0m\u001b[0;34m]\u001b[0m\u001b[0;34m[\u001b[0m\u001b[0;36m3\u001b[0m\u001b[0;34m]\u001b[0m\u001b[0;34m)\u001b[0m\u001b[0;34m\u001b[0m\u001b[0;34m\u001b[0m\u001b[0m\n",
            "\u001b[0;31mValueError\u001b[0m: invalid literal for int() with base 10: ':'"
          ]
        }
      ]
    },
    {
      "cell_type": "code",
      "source": [
        "group_data_df_list = []\n",
        "for name in siege_data_LD['이름'].head(ld_len):\n",
        "  temp_index = []\n",
        "  for i in range(len(group_data)):\n",
        "    if name not in group_data['defenses'].iloc[i]:\n",
        "      temp_index.append(i)\n",
        "  temp_group_data = group_data.drop([group_data.index[i] for i in temp_index])\n",
        "  group_data_df_list.append(temp_group_data)\n",
        "\n",
        "for i in range(len(group_data_df_list)):\n",
        "  group_data_color = color_list_LD[i]\n",
        "  fig_height_unit = 10 / 5;\n",
        "\n",
        "  plt.figure(figsize=(14, min(6, fig_height_unit * len(group_data_df_list[i]))))\n",
        "\n",
        "  group_data_top_five_name = group_data_df_list[i]['defenses'].tail(3)\n",
        "  group_data_top_five_cnt = group_data_df_list[i]['사용횟수'].tail(3)\n",
        "\n",
        "  plt.barh(group_data_top_five_name, group_data_top_five_cnt, color = group_data_color)\n",
        "\n",
        "  group_data_percent = []\n",
        "  for cnt in group_data_top_five_cnt:\n",
        "    group_data_percent.append(str(round(round(cnt/group_data['사용횟수'].sum(), 3) * 100, 3)) + \"%\")\n",
        "    # group_data_percent.append(str(cnt) + \"개\")\n",
        "\n",
        "  for df_idx in range(min(len(group_data_df_list[i]), 3)):\n",
        "    plt_width = group_data_df_list[i]['사용횟수'].tail(3).iloc[df_idx]\n",
        "    plt.text(plt_width, group_data_top_five_name.iloc[df_idx], group_data_percent[df_idx], ha='center', va='center', size = 20)\n",
        "\n",
        "  group_ax = plt.axes()\n",
        "  group_data_locator = 1 if group_data_df_list[i]['사용횟수'].max() < 5 else 5 if group_data_df_list[i]['사용횟수'].max() < 10 else ld_locator\n",
        "  group_ax.xaxis.set_major_locator(ticker.MultipleLocator(group_data_locator))\n",
        "  plt.xlim(0, group_data_df_list[i]['사용횟수'].max() + group_data_df_list[i]['사용횟수'].max()/10)\n",
        "  plt.gca().axes.xaxis.set_visible(False)\n",
        "  plt.yticks(size = 20)\n",
        "  plt.show()"
      ],
      "metadata": {
        "id": "HVpN7ZfbLRiU"
      },
      "execution_count": null,
      "outputs": []
    },
    {
      "cell_type": "code",
      "source": [
        "siege_temp = sorted(siege, key=lambda x:int(x[3]), reverse = True)\n",
        "siege_change = []\n",
        "\n",
        "for i in range(len(siege_temp)) :\n",
        "  siege_temp[i].insert(3, ':')\n",
        "  siege_temp[i][-1] += '개'\n",
        "  siege_change.append(' '.join(siege_temp[i]))\n",
        "\n",
        "with open('sort_' + csv_name + '.txt','w',encoding='UTF-8') as f:\n",
        "    for name in siege_change:\n",
        "        f.write(name+'\\n')"
      ],
      "metadata": {
        "id": "xCF3hLOYCgsb"
      },
      "execution_count": null,
      "outputs": []
    }
  ]
}