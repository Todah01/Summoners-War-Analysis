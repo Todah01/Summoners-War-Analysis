{
  "nbformat": 4,
  "nbformat_minor": 0,
  "metadata": {
    "colab": {
      "provenance": [],
      "authorship_tag": "ABX9TyMMr48ldLoiLALYw/k1WO0N",
      "include_colab_link": true
    },
    "kernelspec": {
      "name": "python3",
      "display_name": "Python 3"
    },
    "language_info": {
      "name": "python"
    }
  },
  "cells": [
    {
      "cell_type": "markdown",
      "metadata": {
        "id": "view-in-github",
        "colab_type": "text"
      },
      "source": [
        "<a href=\"https://colab.research.google.com/github/Todah01/Summoners-War-Analysis/blob/main/GuildMemberAttackLog.ipynb\" target=\"_parent\"><img src=\"https://colab.research.google.com/assets/colab-badge.svg\" alt=\"Open In Colab\"/></a>"
      ]
    },
    {
      "cell_type": "code",
      "execution_count": null,
      "metadata": {
        "id": "VFGi9PCoHGvr"
      },
      "outputs": [],
      "source": [
        "from google.colab import files\n",
        "from collections import defaultdict\n",
        "import pickle\n",
        "import io\n",
        "import pandas as pd\n",
        "import json\n",
        "import sys\n",
        "import re\n",
        "\n",
        "attack_logs = []\n",
        "\n",
        "# uploaded = files.upload()\n",
        "\n",
        "# df = pd.read_json(io.StringIO(uploaded['siege_replay_JP.json'].decode('utf-8')))\n",
        "# df.head()\n",
        "\n",
        "with open('GuildSiegeBattleLog_1.json', 'r', encoding='UTF8') as f:\n",
        "    attack_log_1 = json.load(f)\n",
        "    attack_logs.append(attack_log_1)\n",
        "\n",
        "with open('GuildSiegeBattleLog_2.json', 'r', encoding='UTF8') as f:\n",
        "    attack_log_2 = json.load(f)\n",
        "    attack_logs.append(attack_log_2)\n",
        "\n",
        "with open('GuildSiegeBattleLog_3.json', 'r', encoding='UTF8') as f:\n",
        "    attack_log_3 = json.load(f)\n",
        "    attack_logs.append(attack_log_3)\n",
        "\n",
        "# with open('GuildSiegeBattleLog_defense.json', 'r', encoding='UTF8') as f:\n",
        "#     defense_log = json.load(f)\n",
        "\n",
        "with open('js_monsters_kr.json', 'r', encoding='UTF8') as f:\n",
        "    monsters = json.load(f)\n",
        "\n",
        "# for idx in range(1, len(replay_json)):\n",
        "#   print(replay_json[idx]['data'])"
      ]
    },
    {
      "cell_type": "code",
      "source": [
        "for attack_log in attack_logs:\n",
        "  for idx in range(len(attack_log['log_list'])):\n",
        "    for info in attack_log['log_list'][idx]['guild_info_list']:\n",
        "      print(info['siege_id'], info['guild_name'])\n",
        "    print('\\n')"
      ],
      "metadata": {
        "id": "Ie8o27CrRGcb"
      },
      "execution_count": null,
      "outputs": []
    },
    {
      "cell_type": "code",
      "source": [
        "def get_data_list_from_log(logs, number = 0):\n",
        "  data_list = []\n",
        "  for idx in range(len(logs['log_list']) - number):\n",
        "    for info in logs['log_list'][idx]['battle_log_list']:\n",
        "      # 1 == win / 2 == lose\n",
        "      temp_list = []\n",
        "      for defense_monster_data in info['view_battle_deck_info'][1]:\n",
        "        temp_list.append(monsters[str(defense_monster_data)])\n",
        "      for attack_monster_data in info['view_battle_deck_info'][0]:\n",
        "        temp_list.append(monsters[str(attack_monster_data)])\n",
        "\n",
        "      temp_list.append(info['win_lose'])\n",
        "\n",
        "      data_list.append(temp_list)\n",
        "\n",
        "  return data_list"
      ],
      "metadata": {
        "id": "n4j8jO76JQgT"
      },
      "execution_count": null,
      "outputs": []
    },
    {
      "cell_type": "code",
      "source": [
        "def make_dict_from_data_list(def_vs_atk_dict, logs, number = 0):\n",
        "  for idx in range(len(logs['log_list']) - number):\n",
        "    for info in logs['log_list'][idx]['battle_log_list']:\n",
        "      # 1 == win / 2 == lose\n",
        "      temp_list = []\n",
        "      def_key_list = []\n",
        "      def_key = ','.join([monsters[str(info['view_battle_deck_info'][1][0])]] + [monsters[str(monster)] for monster in sorted(info['view_battle_deck_info'][1][1:], reverse = True)])\n",
        "      atk_key = ','.join([monsters[str(info['view_battle_deck_info'][0][0])]] + [monsters[str(monster)] for monster in sorted(info['view_battle_deck_info'][0][1:], reverse = True)])\n",
        "\n",
        "      def_vs_atk_dict[def_key][atk_key]['total'] += 1\n",
        "      if info['win_lose'] == 1:\n",
        "        def_vs_atk_dict[def_key][atk_key]['win'] += 1\n",
        "      else:\n",
        "        def_vs_atk_dict[def_key][atk_key]['lose'] += 1"
      ],
      "metadata": {
        "id": "iuAS5_26UpwE"
      },
      "execution_count": null,
      "outputs": []
    },
    {
      "cell_type": "code",
      "source": [
        "def check_data_loss(data_list, data_dict):\n",
        "  length_of_list = 0\n",
        "  length_of_dict = 0\n",
        "\n",
        "  for data in data_list:\n",
        "    length_of_list += len(data)\n",
        "\n",
        "  for key in data_dict:\n",
        "    for member in data_dict[key]:\n",
        "      length_of_dict += data_dict[key][member]['total']\n",
        "\n",
        "  return length_of_list == length_of_dict"
      ],
      "metadata": {
        "id": "NUpkYb5TL3ps"
      },
      "execution_count": null,
      "outputs": []
    },
    {
      "cell_type": "code",
      "source": [
        "data_list = []\n",
        "for idx in range(len(attack_logs)):\n",
        "  n = 0\n",
        "  if idx == 1:\n",
        "    n = 1\n",
        "  data_list.append(get_data_list_from_log(attack_logs[idx], n))"
      ],
      "metadata": {
        "id": "H-kUZr9gKFpy"
      },
      "execution_count": null,
      "outputs": []
    },
    {
      "cell_type": "code",
      "source": [
        "def_vs_atk_dict = defaultdict(lambda:defaultdict(lambda:defaultdict(int)))\n",
        "for idx in range(len(attack_logs)):\n",
        "  n = 0\n",
        "  if idx == 1:\n",
        "    n = 1\n",
        "  make_dict_from_data_list(def_vs_atk_dict, attack_logs[idx], n)"
      ],
      "metadata": {
        "id": "V-ajUUKlLbnT"
      },
      "execution_count": null,
      "outputs": []
    },
    {
      "cell_type": "code",
      "source": [
        "print(check_data_loss(data_list, def_vs_atk_dict))"
      ],
      "metadata": {
        "id": "ZyWVaxFYdoiI",
        "outputId": "50c7795a-c245-4f12-fc60-be874a4c4b26",
        "colab": {
          "base_uri": "https://localhost:8080/"
        }
      },
      "execution_count": null,
      "outputs": [
        {
          "output_type": "stream",
          "name": "stdout",
          "text": [
            "True\n"
          ]
        }
      ]
    },
    {
      "cell_type": "code",
      "source": [
        "with open('data_dict.pkl', 'wb') as f:\n",
        "  pickle.dump(def_vs_atk_dict, f)"
      ],
      "metadata": {
        "colab": {
          "base_uri": "https://localhost:8080/",
          "height": 213
        },
        "id": "xlh5wCutuiRl",
        "outputId": "cf64e37d-51ee-4342-a942-3a4d8fcd4d8a"
      },
      "execution_count": null,
      "outputs": [
        {
          "output_type": "error",
          "ename": "PicklingError",
          "evalue": "ignored",
          "traceback": [
            "\u001b[0;31m---------------------------------------------------------------------------\u001b[0m",
            "\u001b[0;31mPicklingError\u001b[0m                             Traceback (most recent call last)",
            "\u001b[0;32m<ipython-input-10-1b8ad26a4af3>\u001b[0m in \u001b[0;36m<cell line: 1>\u001b[0;34m()\u001b[0m\n\u001b[1;32m      1\u001b[0m \u001b[0;32mwith\u001b[0m \u001b[0mopen\u001b[0m\u001b[0;34m(\u001b[0m\u001b[0;34m'data_dict.pkl'\u001b[0m\u001b[0;34m,\u001b[0m \u001b[0;34m'wb'\u001b[0m\u001b[0;34m)\u001b[0m \u001b[0;32mas\u001b[0m \u001b[0mf\u001b[0m\u001b[0;34m:\u001b[0m\u001b[0;34m\u001b[0m\u001b[0;34m\u001b[0m\u001b[0m\n\u001b[0;32m----> 2\u001b[0;31m   \u001b[0mpickle\u001b[0m\u001b[0;34m.\u001b[0m\u001b[0mdump\u001b[0m\u001b[0;34m(\u001b[0m\u001b[0mdef_vs_atk_dict\u001b[0m\u001b[0;34m,\u001b[0m \u001b[0mf\u001b[0m\u001b[0;34m)\u001b[0m\u001b[0;34m\u001b[0m\u001b[0;34m\u001b[0m\u001b[0m\n\u001b[0m",
            "\u001b[0;31mPicklingError\u001b[0m: Can't pickle <function <lambda> at 0x7f27895f9c60>: attribute lookup <lambda> on __main__ failed"
          ]
        }
      ]
    },
    {
      "cell_type": "code",
      "source": [
        "elaborate_list = []\n",
        "for key in def_vs_atk_dict:\n",
        "  temp_key = key.split(',')\n",
        "\n",
        "  for member in def_vs_atk_dict[key]:\n",
        "    temp_member_list = temp_key[:]\n",
        "    temp_member = member.split(',')\n",
        "    for monster in temp_member:\n",
        "      temp_member_list.append(monster)\n",
        "\n",
        "    temp_member_list.append(def_vs_atk_dict[key][member]['total'])\n",
        "\n",
        "    if 'win' in def_vs_atk_dict[key][member]:\n",
        "      temp_member_list.append(def_vs_atk_dict[key][member]['win'])\n",
        "    else:\n",
        "      temp_member_list.append(0)\n",
        "\n",
        "    if 'lose' in def_vs_atk_dict[key][member]:\n",
        "      temp_member_list.append(def_vs_atk_dict[key][member]['lose'])\n",
        "    else:\n",
        "      temp_member_list.append(0)\n",
        "\n",
        "    elaborate_list.append(temp_member_list)"
      ],
      "metadata": {
        "id": "uvG20uIh1d3X"
      },
      "execution_count": null,
      "outputs": []
    },
    {
      "cell_type": "code",
      "source": [
        "df_attack_log_elaborate = pd.DataFrame(elaborate_list, columns=[\"def_monster1\", \"def_monster2\", \"def_monster3\", \"atk_monster1\", \"atk_monster2\", \"atk_monster3\", \"Total\", \"Win\", \"Lose\"])\n",
        "df_attack_log_elaborate[\"odds_of_winning\"] = round((df_attack_log_elaborate[\"Win\"] / df_attack_log_elaborate[\"Total\"]) * 100, 2)\n",
        "sorted_df = df_attack_log_elaborate.sort_values(by=[\"def_monster1\", \"def_monster2\", \"def_monster3\", \"Total\"], ascending=[True, True, True, False])\n",
        "sorted_df.to_csv('df_attack_log.csv', index=False, encoding='CP949')\n",
        "files.download('df_attack_log.csv')"
      ],
      "metadata": {
        "colab": {
          "base_uri": "https://localhost:8080/",
          "height": 17
        },
        "id": "6XHydvWHJf1R",
        "outputId": "38f61b1b-1e2a-4ca2-a348-ef3689216d63"
      },
      "execution_count": null,
      "outputs": [
        {
          "output_type": "display_data",
          "data": {
            "text/plain": [
              "<IPython.core.display.Javascript object>"
            ],
            "application/javascript": [
              "\n",
              "    async function download(id, filename, size) {\n",
              "      if (!google.colab.kernel.accessAllowed) {\n",
              "        return;\n",
              "      }\n",
              "      const div = document.createElement('div');\n",
              "      const label = document.createElement('label');\n",
              "      label.textContent = `Downloading \"${filename}\": `;\n",
              "      div.appendChild(label);\n",
              "      const progress = document.createElement('progress');\n",
              "      progress.max = size;\n",
              "      div.appendChild(progress);\n",
              "      document.body.appendChild(div);\n",
              "\n",
              "      const buffers = [];\n",
              "      let downloaded = 0;\n",
              "\n",
              "      const channel = await google.colab.kernel.comms.open(id);\n",
              "      // Send a message to notify the kernel that we're ready.\n",
              "      channel.send({})\n",
              "\n",
              "      for await (const message of channel.messages) {\n",
              "        // Send a message to notify the kernel that we're ready.\n",
              "        channel.send({})\n",
              "        if (message.buffers) {\n",
              "          for (const buffer of message.buffers) {\n",
              "            buffers.push(buffer);\n",
              "            downloaded += buffer.byteLength;\n",
              "            progress.value = downloaded;\n",
              "          }\n",
              "        }\n",
              "      }\n",
              "      const blob = new Blob(buffers, {type: 'application/binary'});\n",
              "      const a = document.createElement('a');\n",
              "      a.href = window.URL.createObjectURL(blob);\n",
              "      a.download = filename;\n",
              "      div.appendChild(a);\n",
              "      a.click();\n",
              "      div.remove();\n",
              "    }\n",
              "  "
            ]
          },
          "metadata": {}
        },
        {
          "output_type": "display_data",
          "data": {
            "text/plain": [
              "<IPython.core.display.Javascript object>"
            ],
            "application/javascript": [
              "download(\"download_b1c92d6e-5498-43f6-acfd-0509bcb64f10\", \"df_attack_log.csv\", 124634)"
            ]
          },
          "metadata": {}
        }
      ]
    }
  ]
}