{
  "nbformat": 4,
  "nbformat_minor": 0,
  "metadata": {
    "colab": {
      "provenance": [],
      "authorship_tag": "ABX9TyNUYpKyFhKNtfyudIuUjpbl",
      "include_colab_link": true
    },
    "kernelspec": {
      "name": "python3",
      "display_name": "Python 3"
    },
    "language_info": {
      "name": "python"
    }
  },
  "cells": [
    {
      "cell_type": "markdown",
      "metadata": {
        "id": "view-in-github",
        "colab_type": "text"
      },
      "source": [
        "<a href=\"https://colab.research.google.com/github/Todah01/Summoners-War-Analysis/blob/main/GuildMemberAttackLog.ipynb\" target=\"_parent\"><img src=\"https://colab.research.google.com/assets/colab-badge.svg\" alt=\"Open In Colab\"/></a>"
      ]
    },
    {
      "cell_type": "code",
      "execution_count": 1,
      "metadata": {
        "id": "VFGi9PCoHGvr",
        "colab": {
          "base_uri": "https://localhost:8080/"
        },
        "outputId": "cc295dc3-6f4a-4bfb-be7a-1bd0961ff486"
      },
      "outputs": [
        {
          "output_type": "stream",
          "name": "stdout",
          "text": [
            "1\n",
            "25\n"
          ]
        }
      ],
      "source": [
        "from google.colab import files\n",
        "from collections import defaultdict\n",
        "import pickle\n",
        "import io\n",
        "import pandas as pd\n",
        "import json\n",
        "import sys\n",
        "import re\n",
        "\n",
        "attack_logs = []\n",
        "\n",
        "# uploaded = files.upload()\n",
        "\n",
        "# df = pd.read_json(io.StringIO(uploaded['siege_replay_JP.json'].decode('utf-8')))\n",
        "# df.head()\n",
        "\n",
        "with open('GuildSiegeBattleLog_1.json', 'r', encoding='UTF8') as f:\n",
        "    attack_log_1 = json.load(f)\n",
        "    attack_logs.append(attack_log_1)\n",
        "\n",
        "# with open('GuildSiegeBattleLog_2.json', 'r', encoding='UTF8') as f:\n",
        "#     attack_log_2 = json.load(f)\n",
        "#     attack_logs.append(attack_log_2)\n",
        "\n",
        "# with open('GuildSiegeBattleLog_3.json', 'r', encoding='UTF8') as f:\n",
        "#     attack_log_3 = json.load(f)\n",
        "    # attack_logs.append(attack_log_3)\n",
        "\n",
        "# with open('GuildSiegeBattleLog_defense.json', 'r', encoding='UTF8') as f:\n",
        "#     defense_log = json.load(f)\n",
        "\n",
        "with open('js_monsters_kr.json', 'r', encoding='UTF8') as f:\n",
        "    monsters = json.load(f)\n",
        "\n",
        "# for idx in range(1, len(replay_json)):\n",
        "#   print(replay_json[idx]['data'])\n",
        "\n",
        "guild_member_list = ['#개복치영다','#고니','#꽃새우','#람릿','#매봉','#맥주','#미실','#사이타마','#삼겹살','#쑹싸쑹','#연어와곰','요판','#요한','#웅블랑','#죠죠','#주나','#차차','#해벌레','#현식이',\n",
        "                     '호우도르','#호잉','#흐꾸','#히릿','#BANANA','#UnknownBird']\n",
        "\n",
        "print(len(attack_logs))\n",
        "print(len(guild_member_list))"
      ]
    },
    {
      "cell_type": "code",
      "source": [
        "for attack_log in attack_logs:\n",
        "  for idx in range(len(attack_log['log_list'])):\n",
        "    for info in attack_log['log_list'][idx]['guild_info_list']:\n",
        "      print(info['siege_id'], info['guild_name'])\n",
        "    print('\\n')"
      ],
      "metadata": {
        "id": "Ie8o27CrRGcb",
        "colab": {
          "base_uri": "https://localhost:8080/"
        },
        "outputId": "3fa3cc4c-27bc-4d7d-b415-e085286d4820"
      },
      "execution_count": 2,
      "outputs": [
        {
          "output_type": "stream",
          "name": "stdout",
          "text": [
            "2023120201 BEEP\n",
            "2023120201 사춘기\n",
            "2023120201 #Hash tag\n",
            "\n",
            "\n"
          ]
        }
      ]
    },
    {
      "cell_type": "code",
      "source": [
        "member_record_dict = defaultdict(lambda:defaultdict(int))\n",
        "member_log = attack_log['log_list'][0]['battle_log_list']\n",
        "# [monsters[str(monster)] for monster in sorted(info['view_battle_deck_info'][1][1:], reverse = True)]\n",
        "\n",
        "for idx in range(len(member_log)):\n",
        "  if member_log[idx]['win_lose'] == 1:\n",
        "    member_record_dict[member_log[idx]['wizard_name']]['win'] += 1\n",
        "  elif member_log[idx]['win_lose'] == 2:\n",
        "    member_record_dict[member_log[idx]['wizard_name']]['lose'] += 1\n",
        "  else:\n",
        "    print(member_log[idx]['wizard_name'], member_log[idx]['win_lose'])\n",
        "\n",
        "if len(member_record_dict) < 25:\n",
        "  print('error')"
      ],
      "metadata": {
        "id": "R5Cajny8zlsa"
      },
      "execution_count": 16,
      "outputs": []
    },
    {
      "cell_type": "code",
      "source": [
        "member_elaborate_list = []\n",
        "for key in member_record_dict:\n",
        "  temp_member_list = []\n",
        "  temp_member_list.append(key)\n",
        "  temp_member_list.append(member_record_dict[key]['win'])\n",
        "  temp_member_list.append(member_record_dict[key]['lose'])\n",
        "  member_elaborate_list.append(temp_member_list)"
      ],
      "metadata": {
        "id": "Af3_yeNukdqz"
      },
      "execution_count": 20,
      "outputs": []
    },
    {
      "cell_type": "code",
      "source": [
        "def get_data_list_from_log(logs, number = 0):\n",
        "  data_list = []\n",
        "  for idx in range(len(logs['log_list']) - number):\n",
        "    for info in logs['log_list'][idx]['battle_log_list']:\n",
        "      # 1 == win / 2 == lose\n",
        "      temp_list = []\n",
        "      for defense_monster_data in info['view_battle_deck_info'][1]:\n",
        "        temp_list.append(monsters[str(defense_monster_data)])\n",
        "      for attack_monster_data in info['view_battle_deck_info'][0]:\n",
        "        temp_list.append(monsters[str(attack_monster_data)])\n",
        "\n",
        "      temp_list.append(info['win_lose'])\n",
        "\n",
        "      data_list.append(temp_list)\n",
        "\n",
        "  return data_list"
      ],
      "metadata": {
        "id": "n4j8jO76JQgT"
      },
      "execution_count": 8,
      "outputs": []
    },
    {
      "cell_type": "code",
      "source": [
        "def make_dict_from_data_list(def_vs_atk_dict, logs, number = 0):\n",
        "  for idx in range(len(logs['log_list']) - number):\n",
        "    for info in logs['log_list'][idx]['battle_log_list']:\n",
        "      # 1 == win / 2 == lose\n",
        "      temp_list = []\n",
        "      def_key_list = []\n",
        "      def_key = ','.join([monsters[str(info['view_battle_deck_info'][1][0])]] + [monsters[str(monster)] for monster in sorted(info['view_battle_deck_info'][1][1:], reverse = True)])\n",
        "      atk_key = ','.join([monsters[str(info['view_battle_deck_info'][0][0])]] + [monsters[str(monster)] for monster in sorted(info['view_battle_deck_info'][0][1:], reverse = True)])\n",
        "\n",
        "      def_vs_atk_dict[def_key][atk_key]['total'] += 1\n",
        "      if info['win_lose'] == 1:\n",
        "        def_vs_atk_dict[def_key][atk_key]['win'] += 1\n",
        "      else:\n",
        "        def_vs_atk_dict[def_key][atk_key]['lose'] += 1"
      ],
      "metadata": {
        "id": "iuAS5_26UpwE"
      },
      "execution_count": 9,
      "outputs": []
    },
    {
      "cell_type": "code",
      "source": [
        "def check_data_loss(data_list, data_dict):\n",
        "  length_of_list = 0\n",
        "  length_of_dict = 0\n",
        "\n",
        "  for data in data_list:\n",
        "    length_of_list += len(data)\n",
        "\n",
        "  for key in data_dict:\n",
        "    for member in data_dict[key]:\n",
        "      length_of_dict += data_dict[key][member]['total']\n",
        "\n",
        "  return length_of_list == length_of_dict"
      ],
      "metadata": {
        "id": "NUpkYb5TL3ps"
      },
      "execution_count": 10,
      "outputs": []
    },
    {
      "cell_type": "code",
      "source": [
        "data_list = []\n",
        "for idx in range(len(attack_logs)):\n",
        "  n = 0\n",
        "  if idx == 1:\n",
        "    n = 1\n",
        "  data_list.append(get_data_list_from_log(attack_logs[idx], n))"
      ],
      "metadata": {
        "id": "H-kUZr9gKFpy"
      },
      "execution_count": 11,
      "outputs": []
    },
    {
      "cell_type": "code",
      "source": [
        "def_vs_atk_dict = defaultdict(lambda:defaultdict(lambda:defaultdict(int)))\n",
        "for idx in range(len(attack_logs)):\n",
        "  n = 0\n",
        "  if idx == 1:\n",
        "    n = 1\n",
        "  make_dict_from_data_list(def_vs_atk_dict, attack_logs[idx], n)"
      ],
      "metadata": {
        "id": "V-ajUUKlLbnT"
      },
      "execution_count": 12,
      "outputs": []
    },
    {
      "cell_type": "code",
      "source": [
        "print(check_data_loss(data_list, def_vs_atk_dict))"
      ],
      "metadata": {
        "id": "ZyWVaxFYdoiI",
        "outputId": "6db29326-c084-42ab-c3d5-db167d8c0cfc",
        "colab": {
          "base_uri": "https://localhost:8080/"
        }
      },
      "execution_count": 13,
      "outputs": [
        {
          "output_type": "stream",
          "name": "stdout",
          "text": [
            "True\n"
          ]
        }
      ]
    },
    {
      "cell_type": "code",
      "source": [
        "# with open('data_dict.pkl', 'wb') as f:\n",
        "#   pickle.dump(def_vs_atk_dict, f)"
      ],
      "metadata": {
        "id": "xlh5wCutuiRl"
      },
      "execution_count": 14,
      "outputs": []
    },
    {
      "cell_type": "code",
      "source": [
        "elaborate_list = []\n",
        "for key in def_vs_atk_dict:\n",
        "  temp_key = key.split(',')\n",
        "\n",
        "  for member in def_vs_atk_dict[key]:\n",
        "    temp_member_list = temp_key[:]\n",
        "    temp_member = member.split(',')\n",
        "    for monster in temp_member:\n",
        "      temp_member_list.append(monster)\n",
        "\n",
        "    temp_member_list.append(def_vs_atk_dict[key][member]['total'])\n",
        "\n",
        "    if 'win' in def_vs_atk_dict[key][member]:\n",
        "      temp_member_list.append(def_vs_atk_dict[key][member]['win'])\n",
        "    else:\n",
        "      temp_member_list.append(0)\n",
        "\n",
        "    if 'lose' in def_vs_atk_dict[key][member]:\n",
        "      temp_member_list.append(def_vs_atk_dict[key][member]['lose'])\n",
        "    else:\n",
        "      temp_member_list.append(0)\n",
        "\n",
        "    elaborate_list.append(temp_member_list)"
      ],
      "metadata": {
        "id": "ICP33_gOflJv"
      },
      "execution_count": 15,
      "outputs": []
    },
    {
      "cell_type": "code",
      "source": [
        "df_member_log_elaborate = pd.DataFrame(member_elaborate_list, columns=[\"User\", \"Win\", \"Lose\"])\n",
        "df_member_log_elaborate[\"odds_of_winning\"] = round((df_member_log_elaborate[\"Win\"] / (df_member_log_elaborate[\"Win\"] + df_member_log_elaborate[\"Lose\"])) * 100, 2)\n",
        "sorted_df = df_member_log_elaborate.sort_values(by=[\"User\"], ascending=[True])\n",
        "sorted_df.to_csv('df_member_log.csv', index=False, encoding='CP949')\n",
        "files.download('df_member_log.csv')\n",
        "\n",
        "df_attack_log_elaborate = pd.DataFrame(elaborate_list, columns=[\"def_monster1\", \"def_monster2\", \"def_monster3\", \"atk_monster1\", \"atk_monster2\", \"atk_monster3\", \"Total\", \"Win\", \"Lose\"])\n",
        "df_attack_log_elaborate[\"odds_of_winning\"] = round((df_attack_log_elaborate[\"Win\"] / df_attack_log_elaborate[\"Total\"]) * 100, 2)\n",
        "sorted_df = df_attack_log_elaborate.sort_values(by=[\"def_monster1\", \"def_monster2\", \"def_monster3\", \"Total\"], ascending=[True, True, True, False])\n",
        "sorted_df.to_csv('df_attack_log.csv', index=False, encoding='CP949')\n",
        "files.download('df_attack_log.csv')"
      ],
      "metadata": {
        "colab": {
          "base_uri": "https://localhost:8080/",
          "height": 17
        },
        "id": "6XHydvWHJf1R",
        "outputId": "447d92ef-bdd2-471e-f456-52358c3867ba"
      },
      "execution_count": 22,
      "outputs": [
        {
          "output_type": "display_data",
          "data": {
            "text/plain": [
              "<IPython.core.display.Javascript object>"
            ],
            "application/javascript": [
              "\n",
              "    async function download(id, filename, size) {\n",
              "      if (!google.colab.kernel.accessAllowed) {\n",
              "        return;\n",
              "      }\n",
              "      const div = document.createElement('div');\n",
              "      const label = document.createElement('label');\n",
              "      label.textContent = `Downloading \"${filename}\": `;\n",
              "      div.appendChild(label);\n",
              "      const progress = document.createElement('progress');\n",
              "      progress.max = size;\n",
              "      div.appendChild(progress);\n",
              "      document.body.appendChild(div);\n",
              "\n",
              "      const buffers = [];\n",
              "      let downloaded = 0;\n",
              "\n",
              "      const channel = await google.colab.kernel.comms.open(id);\n",
              "      // Send a message to notify the kernel that we're ready.\n",
              "      channel.send({})\n",
              "\n",
              "      for await (const message of channel.messages) {\n",
              "        // Send a message to notify the kernel that we're ready.\n",
              "        channel.send({})\n",
              "        if (message.buffers) {\n",
              "          for (const buffer of message.buffers) {\n",
              "            buffers.push(buffer);\n",
              "            downloaded += buffer.byteLength;\n",
              "            progress.value = downloaded;\n",
              "          }\n",
              "        }\n",
              "      }\n",
              "      const blob = new Blob(buffers, {type: 'application/binary'});\n",
              "      const a = document.createElement('a');\n",
              "      a.href = window.URL.createObjectURL(blob);\n",
              "      a.download = filename;\n",
              "      div.appendChild(a);\n",
              "      a.click();\n",
              "      div.remove();\n",
              "    }\n",
              "  "
            ]
          },
          "metadata": {}
        },
        {
          "output_type": "display_data",
          "data": {
            "text/plain": [
              "<IPython.core.display.Javascript object>"
            ],
            "application/javascript": [
              "download(\"download_f08a5c22-a46d-4976-aa70-9a7f00dfa578\", \"df_member_log.csv\", 456)"
            ]
          },
          "metadata": {}
        },
        {
          "output_type": "display_data",
          "data": {
            "text/plain": [
              "<IPython.core.display.Javascript object>"
            ],
            "application/javascript": [
              "\n",
              "    async function download(id, filename, size) {\n",
              "      if (!google.colab.kernel.accessAllowed) {\n",
              "        return;\n",
              "      }\n",
              "      const div = document.createElement('div');\n",
              "      const label = document.createElement('label');\n",
              "      label.textContent = `Downloading \"${filename}\": `;\n",
              "      div.appendChild(label);\n",
              "      const progress = document.createElement('progress');\n",
              "      progress.max = size;\n",
              "      div.appendChild(progress);\n",
              "      document.body.appendChild(div);\n",
              "\n",
              "      const buffers = [];\n",
              "      let downloaded = 0;\n",
              "\n",
              "      const channel = await google.colab.kernel.comms.open(id);\n",
              "      // Send a message to notify the kernel that we're ready.\n",
              "      channel.send({})\n",
              "\n",
              "      for await (const message of channel.messages) {\n",
              "        // Send a message to notify the kernel that we're ready.\n",
              "        channel.send({})\n",
              "        if (message.buffers) {\n",
              "          for (const buffer of message.buffers) {\n",
              "            buffers.push(buffer);\n",
              "            downloaded += buffer.byteLength;\n",
              "            progress.value = downloaded;\n",
              "          }\n",
              "        }\n",
              "      }\n",
              "      const blob = new Blob(buffers, {type: 'application/binary'});\n",
              "      const a = document.createElement('a');\n",
              "      a.href = window.URL.createObjectURL(blob);\n",
              "      a.download = filename;\n",
              "      div.appendChild(a);\n",
              "      a.click();\n",
              "      div.remove();\n",
              "    }\n",
              "  "
            ]
          },
          "metadata": {}
        },
        {
          "output_type": "display_data",
          "data": {
            "text/plain": [
              "<IPython.core.display.Javascript object>"
            ],
            "application/javascript": [
              "download(\"download_379f1570-8322-4b7c-acd1-ca1bd7a6ef2c\", \"df_attack_log.csv\", 16401)"
            ]
          },
          "metadata": {}
        }
      ]
    }
  ]
}